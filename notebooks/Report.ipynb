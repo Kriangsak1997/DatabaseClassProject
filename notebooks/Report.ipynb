{
 "cells": [
  {
   "cell_type": "markdown",
   "metadata": {},
   "source": [
    "# This is the report for DBMS class project\n",
    "Group Member: Kriangsak T., Hasdin,G.\n",
    "This report refers to : [GitHub](https://github.com/Kriangsak1997/DatabaseClassProject)\n"
   ]
  },
  {
   "cell_type": "markdown",
   "metadata": {},
   "source": [
    "###### Please treat this to be a small demo...\n",
    "First of all, we used docker to run out protgresql database: used commands can be found in the file named \"command_involvingDockerandPSQL.txt\". \n",
    "In this file, you will find what is used to map data to the container.... since i have no time (more like brain) to build a proper image for it.... Please see the following"
   ]
  },
  {
   "cell_type": "code",
   "execution_count": 8,
   "metadata": {},
   "outputs": [
    {
     "name": "stdout",
     "output_type": "stream",
     "text": [
      "Line 1: This is when you create a table in dockerized postgres\n",
      "Line 2: First thing first, let me just give you the command to run postgress\n",
      "Line 3: \n",
      "Line 4: docker run --name snpContainer  -p 543x:5432 -d -e POSTGRES_PASSWORD=1234 postgres\n",
      "Line 5: \n",
      "Line 6: You now have a container named: snpContainer\n",
      "Line 7: Now run\n",
      "Line 8: docker exec -it snpContainer psql -U postgres\n",
      "Line 9: \n",
      "Line 10: and then you will create the table using the folling commands\n",
      "Line 11: \n",
      "Line 12: \n",
      "Line 13: CREATE TABLE SNP_DB(Main_Gene_name  varchar, initialAA varchar,finalAA varchar,position_of_Change varchar,Type_of_Variant varchar,dbSNP varchar,Disease_name varchar);\n",
      "Line 14: \n",
      "Line 15: This is when you copy the file to docker container... I do this because I am not good at docker and fdont know how to create a container for psql and persist the data\n",
      "Line 16: \n",
      "Line 17: docker cp snp_relation.csv 286f68d1cdd8:/snp_relation.csv\n",
      "Line 18: \n",
      "Line 19: \n",
      "Line 20: now you can copy the file from  your container to your database\n",
      "Line 21: hopefully this will work\n",
      "Line 22: \n",
      "Line 23: COPY snp_db  FROM '/snp_relation.csv' DELIMITER ',' CSV HEADER;\n",
      "Line 24: COPY 78244\n",
      "Line 25: \n",
      "Line 26: \n",
      "Line 27: and that's it... you can query from the table: snp_relation\n",
      "Line 28: i.e.,\n",
      "Line 29: select * from snp_relation limit 5;\n",
      "Line 30: \n",
      "Line 31: \n"
     ]
    }
   ],
   "source": [
    "# filepath  = '/Users/kriangsak1997/Documents/MUIC/Term8/DBMS/Project/command_involvingDockerandPSQL.txt'\n",
    "# with open(filepath) as fp:\n",
    "#    line = fp.readline()\n",
    "#    cnt = 1\n",
    "#    while line:\n",
    "#        print(\"Line {}: {}\".format(cnt, line.strip()))\n",
    "#        line = fp.readline()\n",
    "#        cnt += 1"
   ]
  },
  {
   "cell_type": "markdown",
   "metadata": {},
   "source": [
    "# Connect to the Database\n",
    "After having created the database and import the file into it, we will connect to the database using Java. <br>\n",
    "Here with help of **Maven** dependencies, it allows to very easily connect to our database, we can dp so by <br>\n",
    "creating a Maven project.\n",
    "Then access the file: *pom.xml* <br>\n",
    "and we add the dependencies: <br>\n",
    "> </dependency/> \n",
    ">>         </groupId/> org.postgresql</groupId/> \n",
    ">>          </artifactId/>postgresql</artifactId/> \n",
    ">>          </version/>42.2.10</version/> \n",
    "> </dependency/> \n",
    "<br> "
   ]
  },
  {
   "cell_type": "markdown",
   "metadata": {},
   "source": [
    "Then we initialize a few variabls for our database connection, you can refer to any of the sources code: <br>\n",
    "*notebooks/Association Rule Mining with Apriori algorithm.ipynb* or *Project/SNP_Project/src/main/java/WorkingWithDB/ConnectionFactory.java*\n",
    "<br>\n",
    "<br>\n",
    "## Now we can query from out database for all: CRUD queries\n",
    "From this, we take a data-analytic approach to our database. That is, we will apply a small mining algorithm to it. <br>"
   ]
  },
  {
   "cell_type": "markdown",
   "metadata": {},
   "source": [
    "### Associative Rule Mining with Apriori Algorithm\n",
    "for those wishing to understand more about this concept, [consult](https://blog.usejournal.com/association-rule-mining-apriori-algorithm-c517f8d7c54c)\n",
    "There are a few things to introduce for those new to Associative Rule Mining or, perhaps also, Apriori Algorithm. \n",
    "<br>\n",
    "the results of out experiments is in the file: notebooks/Association Rule Mining with Apriori algorithm.ipynb\n",
    "with a few tials of different hyperparemeters (supports, Confidence). It turns out that the with conditional probabiity of 25%, this gives out 3 frequent item set( of 2 elements): **('Asp', 'Asn'), ('Tyr', 'Cys'), ('Glu', 'Lys')** , please refer the mentioned notebook."
   ]
  },
  {
   "cell_type": "markdown",
   "metadata": {},
   "source": [
    "## Functionality\n",
    "Our database offeres simple functionalities of *CRUD* but with limited time and given the panic of COVID-19 fear... we are not able to deliver an appication. Instead, we have made a switch case class that allows for visualizations of our database. There are a few premade data-visualizing queries. With additional queries, users can input their queries of interest.  \n",
    "I dont know what else to write for this report but to please ask you to kindly check through our GitHub link for all the work we have done. \n",
    "thank you."
   ]
  },
  {
   "cell_type": "code",
   "execution_count": null,
   "metadata": {},
   "outputs": [],
   "source": []
  }
 ],
 "metadata": {
  "kernelspec": {
   "display_name": "Python 3",
   "language": "python",
   "name": "python3"
  },
  "language_info": {
   "codemirror_mode": {
    "name": "ipython",
    "version": 3
   },
   "file_extension": ".py",
   "mimetype": "text/x-python",
   "name": "python",
   "nbconvert_exporter": "python",
   "pygments_lexer": "ipython3",
   "version": "3.7.4"
  }
 },
 "nbformat": 4,
 "nbformat_minor": 4
}
