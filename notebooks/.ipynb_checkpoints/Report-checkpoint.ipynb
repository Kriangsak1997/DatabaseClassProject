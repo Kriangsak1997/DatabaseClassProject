{
 "cells": [
  {
   "cell_type": "markdown",
   "metadata": {},
   "source": [
    "# (DEMO) Report for ICCS240: DBMS class project: SNPDB\n",
    "*Group Members*: Kriangsak T., Hasdin,G.\n",
    "This report refers to this attached repository : [SNPBD](https://github.com/Kriangsak1997/DatabaseClassProject)\n"
   ]
  },
  {
   "cell_type": "markdown",
   "metadata": {},
   "source": [
    "### Please treat this to be a small demo...\n",
    "First of all, we used docker to run out protgresql database: used commands can be found in the file named \"command_involvingDockerandPSQL.txt\". \n",
    "In this file, you will find what is used to map data to the container.... since i have no time (more like brain) to build a proper image for it.... Please see the following"
   ]
  },
  {
   "cell_type": "code",
   "execution_count": 6,
   "metadata": {},
   "outputs": [],
   "source": [
    "# filepath  = '/Users/kriangsak1997/Documents/MUIC/Term8/DBMS/Project/command_involvingDockerandPSQL.txt'\n",
    "# with open(filepath) as fp:\n",
    "#    line = fp.readline()\n",
    "#    cnt = 1\n",
    "#    while line:\n",
    "#        print(\"Line {}: {}\".format(cnt, line.strip()))\n",
    "#        line = fp.readline()\n",
    "#        cnt += 1"
   ]
  },
  {
   "cell_type": "markdown",
   "metadata": {},
   "source": [
    "# Connect to the Database\n",
    "After having created the database and import the file into it, we will connect to the database using Java. \n",
    "Here with help of **Maven** dependencies, it allows to very easily connect to our database, we can dp so by\n",
    "creating a Maven project.\n",
    "Then access the file: *pom.xml* <br>\n",
    "and we add the dependencies: <br>\n",
    "> </dependency/> \n",
    ">>         </groupId/> org.postgresql</groupId/> \n",
    ">>          </artifactId/>postgresql</artifactId/> \n",
    ">>          </version/>42.2.10</version/> \n",
    "> </dependency/> \n",
    "<br> "
   ]
  },
  {
   "cell_type": "markdown",
   "metadata": {},
   "source": [
    "# What is SNP?\n",
    " Here, please let me introtduce you with our schema. In case you have not heard of Single Nucleotide Polymorphisms (SNPs). <br>\n",
    "**Single nucleotide polymorphisms**, frequently called SNPs (pronounced “snips”), are the most common type of genetic variation among people. Each SNP represents a difference in a single DNA building block, called a nucleotide. For example, a SNP may replace the nucleotide cytosine (C) with the nucleotide thymine (T) in a certain stretch of DNA. <br>\n",
    "\n",
    "*SNPs* occur normally throughout a person’s DNA. They occur almost once in every 1,000 nucleotides on average, which means there are roughly 4 to 5 million SNPs in a person's genome. These variations may be unique or occur in many individuals; scientists have found more than 100 million SNPs in populations around the world. Most commonly, these variations are found in the DNA between genes. They can act as biological markers, helping scientists locate genes that are associated with disease. When SNPs occur within a gene or in a regulatory region near a gene, they may play a more direct role in disease by affecting the gene’s function.\n",
    "\n",
    "Most SNPs have no effect on health or development. Some of these genetic differences, however, have proven to be very important in the study of human health. Researchers have found SNPs that may help predict an individual’s response to certain drugs, susceptibility to environmental factors such as toxins, and risk of developing particular diseases. SNPs can also be used to track the inheritance of disease genes within families. Future studies will work to identify SNPs associated with complex diseases such as heart disease, diabetes, and cancer.\n",
    "[source](https://ghr.nlm.nih.gov/primer/genomicresearch/snp)"
   ]
  },
  {
   "cell_type": "markdown",
   "metadata": {},
   "source": [
    "# Schema Detail\n",
    "We have created the following schema:\n",
    "Note that before inserting the data into our database, we needed to do a bit of porcessing to extract our data out from the origal input data, [please refer to](https://github.com/Kriangsak1997/DatabaseClassProject/blob/master/notebooks/processing.ipynb)\n",
    "\n",
    "**SNP_DB**(Main_Gene_name  varchar, initialAA varchar,finalAA varchar,position_of_Change varchar,Type_of_Variant varchar,dbSNP varchar,Disease_name varchar)\n",
    "\n",
    "That is, \n",
    " >  *Main_Gene_name*  contains the name of the gene for each record, taking *strings* of gene names <br>\n",
    " \n",
    " > *initialAA* contains the amino acid (AA) abbreviation before a change occurs , taking *strings* of AA ,br>\n",
    " \n",
    " > *finalAA* contains the amino acid (AA) abbreviation after a change occurs , taking *strings* of AA <br>\n",
    " \n",
    " > *position_of_Change* contains the position of AA (in the change of AA chains of a gene), taking **string** of position, which later will be altered to integer type <br>\n",
    " \n",
    " > *Type_of_Variant* contains the type of variants for which an SNP causes, taking *strings* of variant types <br>\n",
    " \n",
    " > *dbSNP* take takes in database code used to access more information regarding a change in NCBI SNP database, taking strings of DB-code <br>\n",
    " \n",
    " > *Disease_name* contains the name of diseases, if applicable, caused by SNPs, taking *strings* of disease names.\n",
    "  "
   ]
  },
  {
   "cell_type": "markdown",
   "metadata": {},
   "source": [
    "### Abbreviations and Full names\n",
    "The following dataframe displays to you the full AA names corresponding to abbreviations used in our database"
   ]
  },
  {
   "cell_type": "code",
   "execution_count": 7,
   "metadata": {},
   "outputs": [
    {
     "data": {
      "text/html": [
       "<div>\n",
       "<style scoped>\n",
       "    .dataframe tbody tr th:only-of-type {\n",
       "        vertical-align: middle;\n",
       "    }\n",
       "\n",
       "    .dataframe tbody tr th {\n",
       "        vertical-align: top;\n",
       "    }\n",
       "\n",
       "    .dataframe thead th {\n",
       "        text-align: right;\n",
       "    }\n",
       "</style>\n",
       "<table border=\"1\" class=\"dataframe\">\n",
       "  <thead>\n",
       "    <tr style=\"text-align: right;\">\n",
       "      <th></th>\n",
       "      <th>Abbreviation</th>\n",
       "      <th>Ful name</th>\n",
       "    </tr>\n",
       "  </thead>\n",
       "  <tbody>\n",
       "    <tr>\n",
       "      <th>0</th>\n",
       "      <td>Ala</td>\n",
       "      <td>Alanine</td>\n",
       "    </tr>\n",
       "    <tr>\n",
       "      <th>1</th>\n",
       "      <td>Arg</td>\n",
       "      <td>Arginine</td>\n",
       "    </tr>\n",
       "    <tr>\n",
       "      <th>2</th>\n",
       "      <td>Asn</td>\n",
       "      <td>Asparagine</td>\n",
       "    </tr>\n",
       "    <tr>\n",
       "      <th>3</th>\n",
       "      <td>Asp</td>\n",
       "      <td>Aspartic acid (Aspartate)</td>\n",
       "    </tr>\n",
       "    <tr>\n",
       "      <th>4</th>\n",
       "      <td>Cys</td>\n",
       "      <td>Cysteine</td>\n",
       "    </tr>\n",
       "    <tr>\n",
       "      <th>5</th>\n",
       "      <td>Gln</td>\n",
       "      <td>Glutamine</td>\n",
       "    </tr>\n",
       "    <tr>\n",
       "      <th>6</th>\n",
       "      <td>Glu</td>\n",
       "      <td>Glutamic acid (Glutamate)</td>\n",
       "    </tr>\n",
       "    <tr>\n",
       "      <th>7</th>\n",
       "      <td>Gly</td>\n",
       "      <td>Glycine</td>\n",
       "    </tr>\n",
       "    <tr>\n",
       "      <th>8</th>\n",
       "      <td>His</td>\n",
       "      <td>Histidine</td>\n",
       "    </tr>\n",
       "    <tr>\n",
       "      <th>9</th>\n",
       "      <td>Ile</td>\n",
       "      <td>Isoleucine</td>\n",
       "    </tr>\n",
       "    <tr>\n",
       "      <th>10</th>\n",
       "      <td>Leu</td>\n",
       "      <td>Leucine</td>\n",
       "    </tr>\n",
       "    <tr>\n",
       "      <th>11</th>\n",
       "      <td>Lys</td>\n",
       "      <td>Lysine</td>\n",
       "    </tr>\n",
       "    <tr>\n",
       "      <th>12</th>\n",
       "      <td>Met</td>\n",
       "      <td>Methionine</td>\n",
       "    </tr>\n",
       "    <tr>\n",
       "      <th>13</th>\n",
       "      <td>Phe</td>\n",
       "      <td>Phenylalanine</td>\n",
       "    </tr>\n",
       "    <tr>\n",
       "      <th>14</th>\n",
       "      <td>Pro</td>\n",
       "      <td>Proline</td>\n",
       "    </tr>\n",
       "    <tr>\n",
       "      <th>15</th>\n",
       "      <td>Ser</td>\n",
       "      <td>Serine</td>\n",
       "    </tr>\n",
       "    <tr>\n",
       "      <th>16</th>\n",
       "      <td>Thr</td>\n",
       "      <td>Threonine</td>\n",
       "    </tr>\n",
       "    <tr>\n",
       "      <th>17</th>\n",
       "      <td>Trp</td>\n",
       "      <td>Tryptophan</td>\n",
       "    </tr>\n",
       "    <tr>\n",
       "      <th>18</th>\n",
       "      <td>Tyr</td>\n",
       "      <td>Tyrosine</td>\n",
       "    </tr>\n",
       "    <tr>\n",
       "      <th>19</th>\n",
       "      <td>Val</td>\n",
       "      <td>Valine</td>\n",
       "    </tr>\n",
       "  </tbody>\n",
       "</table>\n",
       "</div>"
      ],
      "text/plain": [
       "   Abbreviation                   Ful name\n",
       "0           Ala                    Alanine\n",
       "1           Arg                   Arginine\n",
       "2           Asn                 Asparagine\n",
       "3           Asp  Aspartic acid (Aspartate)\n",
       "4           Cys                   Cysteine\n",
       "5           Gln                  Glutamine\n",
       "6           Glu  Glutamic acid (Glutamate)\n",
       "7           Gly                    Glycine\n",
       "8           His                  Histidine\n",
       "9           Ile                 Isoleucine\n",
       "10          Leu                    Leucine\n",
       "11          Lys                     Lysine\n",
       "12          Met                 Methionine\n",
       "13          Phe              Phenylalanine\n",
       "14          Pro                    Proline\n",
       "15          Ser                     Serine\n",
       "16          Thr                  Threonine\n",
       "17          Trp                 Tryptophan\n",
       "18          Tyr                   Tyrosine\n",
       "19          Val                     Valine"
      ]
     },
     "execution_count": 7,
     "metadata": {},
     "output_type": "execute_result"
    }
   ],
   "source": [
    "AminoAcid_name =pd.read_csv('/Users/kriangsak1997/Documents/MUIC/Term8/DBMS/Project/aanames.csv')\n",
    "AminoAcid_name "
   ]
  },
  {
   "cell_type": "markdown",
   "metadata": {},
   "source": [
    "\n",
    "## Now we can query from out database for all: CRUD queries\n",
    "From this, we take a data-analytic approach to our database. That is, we will apply a small mining algorithm on the given dataset. "
   ]
  },
  {
   "cell_type": "markdown",
   "metadata": {},
   "source": [
    "# Associative Rule Mining with Apriori Algorithm\n",
    "for those wishing to understand more about this concept, [consult](https://blog.usejournal.com/association-rule-mining-apriori-algorithm-c517f8d7c54c)\n",
    "There are a few things to introduce for those new to Associative Rule Mining or, perhaps also, Apriori Algorithm. \n",
    "<br>\n",
    "the results of out experiments is in the file: notebooks/Association Rule Mining with Apriori algorithm.ipynb\n",
    "with a few tials of different hyperparemeters (supports, Confidence). It turns out that the with conditional probabiity of 25%, this gives out 3 frequent item set( of 2 elements): <br>\n",
    "\n",
    "**('Asp', 'Asn'), ('Tyr', 'Cys'), ('Glu', 'Lys')** \n",
    "\n",
    "This will be examined later in this demo."
   ]
  },
  {
   "cell_type": "markdown",
   "metadata": {},
   "source": [
    "In addition to the first submission, there is a need for a moer thorough anaysis of the data. To do so, the problem that was not fixed, purposely actually ^^, is that we need to convert the type of attibute **position_of_change** into an **integer** type. It is very simple to do so, we can simply run the following command to our datbase. <br>\n",
    "\n",
    "> **ALTER TABLE** snp_db **ALTER COLUMN** position_of_change **TYPE INT USING** position_of_change::integer; <br>\n",
    "\n",
    "From here on, we can do analysis associated with position of chnages and our obtained frequent itemsets obtained from associative rule mining. For simplicity, let's bring in a few functions which will later be used in this demo."
   ]
  },
  {
   "cell_type": "code",
   "execution_count": 6,
   "metadata": {},
   "outputs": [],
   "source": [
    "import psycopg2\n",
    "import pandas as pd\n",
    "import numpy as np \n",
    "from apyori import apriori\n",
    "import matplotlib.pyplot as plt\n",
    "from sqlalchemy import create_engine\n",
    "\"\"\"\n",
    "This connection function will acts as a connection factory as it is in our ConnectionFactory.java \n",
    "in this repository.\n",
    "\"\"\"\n",
    "def connection(user,pwd,host,port,db):\n",
    "    try:\n",
    "       connection = psycopg2.connect(user=user,\n",
    "                                  password=pwd,\n",
    "                                  host=host,\n",
    "                                  port=port,\n",
    "                                  database=db)\n",
    "       cursor = connection.cursor()\n",
    "       return cursor\n",
    "    except (Exception, psycopg2.Error) as error :\n",
    "        print (\"Error while fetching data from PostgreSQL\", error)\n",
    "\n",
    "\"\"\"\n",
    "this select class will return the output from input queries and return, for the moment, as a numpy array object.\n",
    "\"\"\"\n",
    "user =\"postgres\"\n",
    "pwd = \"1997\"\n",
    "host =\"localhost\"\n",
    "port = \"5432\"\n",
    "db= \"postgres\"\n",
    "def select(q):\n",
    "    c = connection(user,pwd,host,port,db)\n",
    "    c.execute(q)\n",
    "    arr = np.array(c.fetchall()) \n",
    "    return arr"
   ]
  },
  {
   "cell_type": "code",
   "execution_count": 51,
   "metadata": {},
   "outputs": [],
   "source": [
    "snp =pd.DataFrame(select(\"select initialAA,finalAA from snp_db\"))\n",
    "snp.columns=[ 'initialAA', 'finalAA']\n",
    "snps = []\n",
    "for row in range(0,len(snp)):\n",
    "    snps.append([str(snp.values[row,j]) for j in range(0,2)])\n",
    "association_rules = apriori(snps,min_support=0.0093,min_confidence=0.250,min_lift =3,min_length=2)\n",
    "association_results =list(association_rules)\n",
    "finals = []\n",
    "rows = []\n",
    "for item in association_results:                                          \n",
    "#     to display the rule, the support, the confidence, and lift for each rule in a more clear way:\n",
    "\n",
    "    # first index of the inner list\n",
    "    # Contains base item and add item\n",
    "    eachrow=[]\n",
    "    pair = item[0] \n",
    "    items = [x for x in pair]\n",
    "#     print(\"Rule: \" + items[0] + \" -> \" + items[1])\n",
    "    eachrow.append(items[0] + \" -> \" + items[1])\n",
    "\n",
    "    #second index of the inner list\n",
    "#     print(\"Support: \" + str(item[1]))\n",
    "    eachrow.append(item[1])\n",
    "\n",
    "    #third index of the list located at 0th\n",
    "    #of the third index of the inner list\n",
    "\n",
    "#     print(\"Confidence: \" + str(item[2][0][2]))\n",
    "    eachrow.append(item[2][0][2])\n",
    "#     print(\"Lift: \" + str(item[2][0][3]))\n",
    "    eachrow.append(item[2][0][3])\n",
    "    rows.append(eachrow)\n",
    "#     print(\"=====================================\")\n",
    "miningresults = pd.DataFrame(rows)\n",
    "cols = [\"rule\", \"Support\", \"Confidence\", \"Lift\"]\n",
    "miningresults.columns = cols"
   ]
  },
  {
   "cell_type": "code",
   "execution_count": 55,
   "metadata": {},
   "outputs": [
    {
     "data": {
      "text/html": [
       "<div>\n",
       "<style scoped>\n",
       "    .dataframe tbody tr th:only-of-type {\n",
       "        vertical-align: middle;\n",
       "    }\n",
       "\n",
       "    .dataframe tbody tr th {\n",
       "        vertical-align: top;\n",
       "    }\n",
       "\n",
       "    .dataframe thead th {\n",
       "        text-align: right;\n",
       "    }\n",
       "</style>\n",
       "<table border=\"1\" class=\"dataframe\">\n",
       "  <thead>\n",
       "    <tr style=\"text-align: right;\">\n",
       "      <th></th>\n",
       "      <th>rule</th>\n",
       "      <th>Support</th>\n",
       "      <th>Confidence</th>\n",
       "      <th>Lift</th>\n",
       "    </tr>\n",
       "  </thead>\n",
       "  <tbody>\n",
       "    <tr>\n",
       "      <th>0</th>\n",
       "      <td>Asn -&gt; Asp</td>\n",
       "      <td>0.020755</td>\n",
       "      <td>0.283619</td>\n",
       "      <td>3.397908</td>\n",
       "    </tr>\n",
       "    <tr>\n",
       "      <th>1</th>\n",
       "      <td>Tyr -&gt; Cys</td>\n",
       "      <td>0.021931</td>\n",
       "      <td>0.254751</td>\n",
       "      <td>4.943691</td>\n",
       "    </tr>\n",
       "    <tr>\n",
       "      <th>2</th>\n",
       "      <td>Lys -&gt; Glu</td>\n",
       "      <td>0.031555</td>\n",
       "      <td>0.369445</td>\n",
       "      <td>5.063446</td>\n",
       "    </tr>\n",
       "  </tbody>\n",
       "</table>\n",
       "</div>"
      ],
      "text/plain": [
       "         rule   Support  Confidence      Lift\n",
       "0  Asn -> Asp  0.020755    0.283619  3.397908\n",
       "1  Tyr -> Cys  0.021931    0.254751  4.943691\n",
       "2  Lys -> Glu  0.031555    0.369445  5.063446"
      ]
     },
     "execution_count": 55,
     "metadata": {},
     "output_type": "execute_result"
    }
   ],
   "source": [
    "miningresults\n",
    "# miningresults.to_csv(r'/Users/kriangsak1997/Documents/MUIC/Term8/DBMS/Project/miningResults.csv', index = False)"
   ]
  },
  {
   "cell_type": "markdown",
   "metadata": {},
   "source": [
    "*Note that we have added the result into the 8th case of our switch case class so that the user can see this obtained result*"
   ]
  },
  {
   "cell_type": "markdown",
   "metadata": {},
   "source": [
    "# What can see learn from the following rules\n",
    "we shall try to zoom in into each of an associative frequent itemsets and see what can be drawn from it. For example, we can ask the following questions.\n",
    "> (1) What type of variants are caused by the obtained rules. <br>\n",
    "> (2) What are are the positions of change when we specify with obtained initial and final AAs. we can bin this, say, into 3 subintervals. From this quetion, we can deepen the quetion into: once binneed into 3 subintervals, which subinterval containes the largest number of changes recorded  <br>"
   ]
  },
  {
   "cell_type": "markdown",
   "metadata": {},
   "source": [
    "## (1) What type of variants are caused by the obtained rules"
   ]
  },
  {
   "cell_type": "code",
   "execution_count": 8,
   "metadata": {},
   "outputs": [
    {
     "data": {
      "text/html": [
       "<div>\n",
       "<style scoped>\n",
       "    .dataframe tbody tr th:only-of-type {\n",
       "        vertical-align: middle;\n",
       "    }\n",
       "\n",
       "    .dataframe tbody tr th {\n",
       "        vertical-align: top;\n",
       "    }\n",
       "\n",
       "    .dataframe thead th {\n",
       "        text-align: right;\n",
       "    }\n",
       "</style>\n",
       "<table border=\"1\" class=\"dataframe\">\n",
       "  <thead>\n",
       "    <tr style=\"text-align: right;\">\n",
       "      <th></th>\n",
       "      <th>Disease</th>\n",
       "      <th>Polymorphism</th>\n",
       "      <th>Unclassified</th>\n",
       "    </tr>\n",
       "    <tr>\n",
       "      <th>Rule\\Type of Variant</th>\n",
       "      <th></th>\n",
       "      <th></th>\n",
       "      <th></th>\n",
       "    </tr>\n",
       "  </thead>\n",
       "  <tbody>\n",
       "    <tr>\n",
       "      <th>Asp -&gt; Asn</th>\n",
       "      <td>457</td>\n",
       "      <td>592</td>\n",
       "      <td>147</td>\n",
       "    </tr>\n",
       "    <tr>\n",
       "      <th>Tyr -&gt; Cys</th>\n",
       "      <td>574</td>\n",
       "      <td>285</td>\n",
       "      <td>80</td>\n",
       "    </tr>\n",
       "    <tr>\n",
       "      <th>Glu -&gt; Lys</th>\n",
       "      <td>785</td>\n",
       "      <td>813</td>\n",
       "      <td>214</td>\n",
       "    </tr>\n",
       "  </tbody>\n",
       "</table>\n",
       "</div>"
      ],
      "text/plain": [
       "                      Disease  Polymorphism  Unclassified\n",
       "Rule\\Type of Variant                                     \n",
       "Asp -> Asn                457           592           147\n",
       "Tyr -> Cys                574           285            80\n",
       "Glu -> Lys                785           813           214"
      ]
     },
     "execution_count": 8,
     "metadata": {},
     "output_type": "execute_result"
    }
   ],
   "source": [
    "#Prepare the queries for the 3 rules\n",
    "final_Queries = [\"select count(main_gene_name) from snp_db where initialaa='Asp' and finalaa = 'Asn' group by type_of_variant;\",\n",
    "                \"select count(main_gene_name) from snp_db where initialaa='Tyr' and finalaa = 'Cys' group by type_of_variant; \",\n",
    "                 \"select count(main_gene_name) from snp_db where initialaa='Glu' and finalaa = 'Lys' group by type_of_variant;\"]\n",
    "records= [select(final_Queries[i]).T.flatten().tolist() for i in range(3)]\n",
    "framessss = pd.DataFrame(records)\n",
    "framessss.insert(0,\"Rule\",[\"Asp -> Asn\", \"Tyr -> Cys\", \"Glu -> Lys\"],True)\n",
    "framessss.columns = [\"Rule\\Type of Variant\",\"Disease\",\"Polymorphism\",\"Unclassified\"] \n",
    "#note that pqsl return the count in alphabetical order. \n",
    "framessss.set_index(['Rule\\Type of Variant'])"
   ]
  },
  {
   "cell_type": "code",
   "execution_count": 9,
   "metadata": {},
   "outputs": [],
   "source": [
    "# framessss.to_csv(r'/Users/kriangsak1997/Documents/MUIC/Term8/DBMS/Project/frequent_thingy.csv', index = False)"
   ]
  },
  {
   "cell_type": "code",
   "execution_count": 10,
   "metadata": {},
   "outputs": [],
   "source": [
    "# check = \"select * from frequent_things\"\n",
    "# select(check)"
   ]
  },
  {
   "cell_type": "markdown",
   "metadata": {},
   "source": [
    "Here we go, the above dataframe displays different types of variants based on the given associative rules. \n",
    "It is obvious to see that  2 out of 3 rules (Asp -> Asn,Glu -> Lys), when these changes occur, they give rise to polymorphism more than the other two types of genetic variations"
   ]
  },
  {
   "cell_type": "markdown",
   "metadata": {},
   "source": [
    "## (2) Binning of positions of changes\n",
    "like we said earilier, we would like to know What are are the positions of change when we specify with obtained initial and final AAs. we can bin this, say, into 3 subintervals. From this quetion, we can deepen the quetion into: once binneed into 3 subintervals, which subinterval containes the largest number of changes recorded. Here is the plans of what we are going to do in the next few cells <br>\n",
    "\n",
    "> First, we want to bin the entire dataset <br>\n",
    "> Second, we will do the same for each of the 3 obtained assiciative frequent itemset.<br>\n",
    "> finally, we will compare the result accordingly."
   ]
  },
  {
   "cell_type": "markdown",
   "metadata": {},
   "source": [
    "### Binning the whole dataset\n"
   ]
  },
  {
   "cell_type": "code",
   "execution_count": 11,
   "metadata": {},
   "outputs": [],
   "source": [
    "count_main, bin_main = np.histogram(select(\"select position_of_change from snp_db\"),3)\n",
    "# plt.hist(bins[:-1], bins, weights=counts)"
   ]
  },
  {
   "cell_type": "code",
   "execution_count": 12,
   "metadata": {},
   "outputs": [
    {
     "data": {
      "text/plain": [
       "[78023, 108, 114]"
      ]
     },
     "execution_count": 12,
     "metadata": {},
     "output_type": "execute_result"
    }
   ],
   "source": [
    "intv= [11439.6, 22877.3,34315.0]\n",
    "vals = count_main.flatten().tolist()\n",
    "vals"
   ]
  },
  {
   "cell_type": "code",
   "execution_count": 13,
   "metadata": {},
   "outputs": [
    {
     "data": {
      "image/png": "[encoded data removed]",
      "text/plain": [
       "<Figure size 432x288 with 1 Axes>"
      ]
     },
     "metadata": {
      "needs_background": "light"
     },
     "output_type": "display_data"
    }
   ],
   "source": [
    "plot_main = plt.plot(intv,vals)\n"
   ]
  },
  {
   "cell_type": "markdown",
   "metadata": {},
   "source": [
    "### Binning the case when Asp changes into Asn"
   ]
  },
  {
   "cell_type": "code",
   "execution_count": 14,
   "metadata": {},
   "outputs": [
    {
     "data": {
      "text/plain": [
       "(array([1192,    1,    3]),\n",
       " array([2.00000000e+00, 7.95866667e+03, 1.59153333e+04, 2.38720000e+04]))"
      ]
     },
     "execution_count": 14,
     "metadata": {},
     "output_type": "execute_result"
    },
    {
     "data": {
      "image/png": "[encoded data removed]",
      "text/plain": [
       "<Figure size 432x288 with 1 Axes>"
      ]
     },
     "metadata": {
      "needs_background": "light"
     },
     "output_type": "display_data"
    }
   ],
   "source": [
    "count_1, bins_1 = np.histogram(select(\"select position_of_change from snp_db where initialaa='Asp' and finalaa = 'Asn'\"),3)\n",
    "plt.plot(bins_1.flatten().tolist()[1:],count_1.flatten().tolist())\n",
    "count_1,bins_1"
   ]
  },
  {
   "cell_type": "markdown",
   "metadata": {},
   "source": [
    "### Binning the case when Tyr  changes into Cys"
   ]
  },
  {
   "cell_type": "code",
   "execution_count": 59,
   "metadata": {},
   "outputs": [
    {
     "data": {
      "image/png": "[encoded data removed]",
      "text/plain": [
       "<Figure size 432x288 with 1 Axes>"
      ]
     },
     "metadata": {
      "needs_background": "light"
     },
     "output_type": "display_data"
    }
   ],
   "source": [
    "count_2, bins_2 = np.histogram(select(\"select position_of_change from snp_db where initialaa='Tyr' and finalaa = 'Cys'\"),3)\n",
    "plt.plot(bins_2.flatten().tolist()[1:],count_2.flatten().tolist())\n",
    "count_2,bins_2\n",
    "from IPython.display import Image "
   ]
  },
  {
   "cell_type": "markdown",
   "metadata": {},
   "source": [
    "### Binning the case when Glu  changes into Lys "
   ]
  },
  {
   "cell_type": "code",
   "execution_count": 16,
   "metadata": {},
   "outputs": [
    {
     "data": {
      "text/plain": [
       "(array([1805,    3,    4]),\n",
       " array([2.00000000e+00, 1.12066667e+04, 2.24113333e+04, 3.36160000e+04]))"
      ]
     },
     "execution_count": 16,
     "metadata": {},
     "output_type": "execute_result"
    },
    {
     "data": {
      "image/png": "[encoded data removed]",
      "text/plain": [
       "<Figure size 432x288 with 1 Axes>"
      ]
     },
     "metadata": {
      "needs_background": "light"
     },
     "output_type": "display_data"
    }
   ],
   "source": [
    "count_3, bins_3 = np.histogram(select(\"select position_of_change from snp_db where initialaa='Glu' and finalaa = 'Lys'\"),3)\n",
    "plt3 =plt.plot(bins_3.flatten().tolist()[1:],count_3.flatten().tolist())\n",
    "count_3,bins_3"
   ]
  },
  {
   "cell_type": "markdown",
   "metadata": {},
   "source": []
  },
  {
   "cell_type": "code",
   "execution_count": 17,
   "metadata": {},
   "outputs": [
    {
     "data": {
      "image/png": "[encoded data removed]",
      "text/plain": [
       "<Figure size 432x288 with 1 Axes>"
      ]
     },
     "metadata": {
      "needs_background": "light"
     },
     "output_type": "display_data"
    }
   ],
   "source": [
    "\n",
    "colors = (0,0,0)\n",
    "area = np.pi*3\n",
    "\n",
    "# Plot\n",
    "\n",
    "g1 = (bin_main.flatten().tolist()[1:], count_main.flatten().tolist())\n",
    "g2 = (bins_1.flatten().tolist()[1:], count_1.flatten().tolist())\n",
    "g3 = (bins_2.flatten().tolist()[1:], count_2.flatten().tolist())\n",
    "g4 = (bins_3.flatten().tolist()[1:], count_3.flatten().tolist())\n",
    "data = (g1, g2, g3,g4)\n",
    "colors = (\"red\", \"green\", \"blue\",\"black\")\n",
    "groups = ([\"Main\",\"Asp -> Asn\", \"Tyr -> Cys\", \"Glu -> Lys\"])\n",
    "\n",
    "# Create plot\n",
    "fig = plt.figure()\n",
    "ax = fig.add_subplot(1, 1, 1)\n",
    "\n",
    "for data, color, group in zip(data, colors, groups):\n",
    "    x, y = data\n",
    "    ax.scatter(x, y, alpha=0.8, c=color, edgecolors='none', s=30, label=group)\n",
    "\n",
    "plt.title('All plots in one')\n",
    "plt.legend(loc=0)\n",
    "plt.show()"
   ]
  },
  {
   "cell_type": "markdown",
   "metadata": {},
   "source": [
    "Plotting with the main dataset makes it hard to see the actual trend for the subplots: all the frequent iremsets.\n",
    "\n",
    "We will try to construct a new plot excluding the main dataset\n"
   ]
  },
  {
   "cell_type": "code",
   "execution_count": 18,
   "metadata": {},
   "outputs": [
    {
     "data": {
      "image/png": "[encoded data removed]",
      "text/plain": [
       "<Figure size 432x288 with 1 Axes>"
      ]
     },
     "metadata": {
      "needs_background": "light"
     },
     "output_type": "display_data"
    }
   ],
   "source": [
    "\n",
    "colors = (0,0,0)\n",
    "area = np.pi*3\n",
    "\n",
    "# g1 = (bin_main.flatten().tolist()[1:], count_main.flatten().tolist())\n",
    "g2 = (bins_1.flatten().tolist()[1:], count_1.flatten().tolist())\n",
    "g3 = (bins_2.flatten().tolist()[1:], count_2.flatten().tolist())\n",
    "g4 = (bins_3.flatten().tolist()[1:], count_3.flatten().tolist())\n",
    "data = ( g2, g3,g4)\n",
    "colors = ( \"green\", \"blue\",\"black\")\n",
    "groups = ([\"Asp -> Asn\", \"Tyr -> Cys\", \"Glu -> Lys\"])\n",
    "\n",
    "# Create plot\n",
    "fig = plt.figure()\n",
    "ax = fig.add_subplot(1, 1, 1)\n",
    "\n",
    "for data, color, group in zip(data, colors, groups):\n",
    "    x, y = data\n",
    "    ax.scatter(x, y, alpha=0.8, c=color, edgecolors='none', s=30, label=group)\n",
    "\n",
    "plt.title('All plots in one v2')\n",
    "plt.legend(loc=0)\n",
    "plt.show()"
   ]
  },
  {
   "cell_type": "markdown",
   "metadata": {},
   "source": [
    "from here we can see that the the most significant intervals are the first interval of every subplot. \n",
    "\n",
    "In addition to that, we can also try to check for which of the frequent itemset, which one has the most number of changes cross all subitervals"
   ]
  },
  {
   "cell_type": "code",
   "execution_count": 57,
   "metadata": {},
   "outputs": [
    {
     "data": {
      "text/html": [
       "<div>\n",
       "<style scoped>\n",
       "    .dataframe tbody tr th:only-of-type {\n",
       "        vertical-align: middle;\n",
       "    }\n",
       "\n",
       "    .dataframe tbody tr th {\n",
       "        vertical-align: top;\n",
       "    }\n",
       "\n",
       "    .dataframe thead th {\n",
       "        text-align: right;\n",
       "    }\n",
       "</style>\n",
       "<table border=\"1\" class=\"dataframe\">\n",
       "  <thead>\n",
       "    <tr style=\"text-align: right;\">\n",
       "      <th></th>\n",
       "      <th>Rule\\intvl</th>\n",
       "      <th>1st-inv'l</th>\n",
       "      <th>2nd-inv'l</th>\n",
       "      <th>3rd-inv'l</th>\n",
       "      <th>total</th>\n",
       "    </tr>\n",
       "  </thead>\n",
       "  <tbody>\n",
       "    <tr>\n",
       "      <th>0</th>\n",
       "      <td>Asp -&gt; Asn</td>\n",
       "      <td>1192</td>\n",
       "      <td>1</td>\n",
       "      <td>3</td>\n",
       "      <td>1196</td>\n",
       "    </tr>\n",
       "    <tr>\n",
       "      <th>1</th>\n",
       "      <td>Tyr -&gt; Cys</td>\n",
       "      <td>937</td>\n",
       "      <td>1</td>\n",
       "      <td>1</td>\n",
       "      <td>939</td>\n",
       "    </tr>\n",
       "    <tr>\n",
       "      <th>2</th>\n",
       "      <td>Glu -&gt; Lys</td>\n",
       "      <td>1805</td>\n",
       "      <td>3</td>\n",
       "      <td>4</td>\n",
       "      <td>1812</td>\n",
       "    </tr>\n",
       "  </tbody>\n",
       "</table>\n",
       "</div>"
      ],
      "text/plain": [
       "   Rule\\intvl  1st-inv'l  2nd-inv'l  3rd-inv'l  total\n",
       "0  Asp -> Asn       1192          1          3   1196\n",
       "1  Tyr -> Cys        937          1          1    939\n",
       "2  Glu -> Lys       1805          3          4   1812"
      ]
     },
     "execution_count": 57,
     "metadata": {},
     "output_type": "execute_result"
    }
   ],
   "source": [
    "countsss = [count_1, count_2, count_3]\n",
    "sumcol = [np.sum(count_1),np.sum(count_2),np.sum(count_3)]\n",
    "countframes = pd.DataFrame(countsss)\n",
    "countframes.columns= [\"1st-inv'l\",\"2nd-inv'l\",\"3rd-inv'l\"]\n",
    "countframes\n",
    "countframes.insert(0,\"Rule\",[\"Asp -> Asn\", \"Tyr -> Cys\", \"Glu -> Lys\"],True)\n",
    "countframes.insert(4,\"total\",sumcol,True)\n",
    "countframes.columns = [\"Rule\\intvl\",\"1st-inv'l\",\"2nd-inv'l\",\"3rd-inv'l\",\"total\"] \n",
    "#note that pqsl return the count in alphabetical order. \n",
    "countframes.set_index(['Rule\\intvl'])\n",
    "new = countframes\n",
    "new"
   ]
  },
  {
   "cell_type": "markdown",
   "metadata": {},
   "source": [
    "As we can see from the summary table, when Asp changes into Asn, it has the largest number of changes. In fact, we also know this from the outout from our associative mining. That is, we can pinpoint this fact by looking at the conditional probabilities, confidence values."
   ]
  },
  {
   "cell_type": "code",
   "execution_count": 56,
   "metadata": {},
   "outputs": [],
   "source": [
    "# new.to_csv(r'/Users/kriangsak1997/Documents/MUIC/Term8/DBMS/Project/count_per_interval.csv', index = False)"
   ]
  },
  {
   "cell_type": "markdown",
   "metadata": {},
   "source": [
    "# Put the rules aside\n",
    "Apart from the ontained results, we can also pose a few quetions directly to our databse. Let's assume that there exists a curious user wanting to know the followig: <br>\n",
    "+ what is the count the each amino acid in the database: initial and final counts: to see this please select case 11 ans 13.\n",
    "+ what if the user wants to know more about a specific record, then go ahead with case 13: where the input parameter is taken from attribute \"dbSNP\". The user shall have a brower opening the NBCI page linked to the specified record.\n",
    "Let's see how each of the switch cases works!!\n"
   ]
  },
  {
   "cell_type": "markdown",
   "metadata": {},
   "source": [
    "### Case 1: Count polymorphism\n",
    "this query return to the user: the total number of polymorphism cases in the database\n",
    "![image](case1.png)\n",
    "\n",
    "### Case 2: Count disease\n",
    "this query return to the user: the total number of disease cases in the database\n",
    "![image](case2.png)\n",
    "\n",
    "### Case 3: Count unclassified\n",
    "this query return to the user: the total number of unclassified cases in the database\n",
    "![image](case3.png)\n",
    "\n",
    "### Case 4: Classification, \n",
    "I know this is just the aggregation of case 1,2 and 3, but why not, let's just see it!\n",
    "![image](case4.png)\n",
    "\n",
    "### Case 5: Insert record\n",
    "This case takes care of record insertion\n",
    "![image](case5.png)\n",
    "\n",
    "### Case 6: Create Table\n",
    "This case takes care of creating a new table...it shows some sort of error, but it works.... I dont know how to fix this bug...admitedly. \n",
    "![image](case6.png)\n",
    "\n",
    "### Case 7: Count_Subinterval\n",
    "This case returns to the user the counts for each subintervals resulted from our Associative rule mining\n",
    "![image](case7.png)\n",
    "\n",
    "### Case 8: Display Mining Result\n",
    "This case returns to you the result of our mining on the database: and yes I know it shuold have come before case 7....but whatever.\n",
    "![image](case8.png)\n",
    "\n",
    "### Case 9: Display Rule_ vs_Type_Of_variants\n",
    "This case presents to the user, with three obtained associative frequent itemsets, the catagorizations of variants associated to each rule.\n",
    "![image](case9.png)\n",
    "\n",
    "### Case 10: others\n",
    "This case allows users to query from the database\n",
    "![image](case10.png)\n",
    "\n",
    "### Case 11: final amino acids group by counts\n",
    "This case counts the final amino acids \n",
    "![image](case11.png)\n",
    "\n",
    "### Case 12: initial amino acids group by count\n",
    "This case counts the initla amino acids: and again, this case should have been the 11th case, i guess....\n",
    "![image](case12.png)\n",
    "\n",
    "### Case 13: brow more information of a record of interest\n",
    "This case allows rthe user to browse more information regarding the record of interest opening the brower with NCBI database page of the specified record.\n",
    "![image](case13.png)\n",
    "\n",
    "# End of Demonstration #\n",
    "Thank you for you attention, please stay safe!\n",
    "\n",
    "![image](coronavirus-meme.jpg)"
   ]
  },
  {
   "cell_type": "code",
   "execution_count": null,
   "metadata": {},
   "outputs": [],
   "source": []
  }
 ],
 "metadata": {
  "kernelspec": {
   "display_name": "Python 3",
   "language": "python",
   "name": "python3"
  },
  "language_info": {
   "codemirror_mode": {
    "name": "ipython",
    "version": 3
   },
   "file_extension": ".py",
   "mimetype": "text/x-python",
   "name": "python",
   "nbconvert_exporter": "python",
   "pygments_lexer": "ipython3",
   "version": "3.7.4"
  }
 },
 "nbformat": 4,
 "nbformat_minor": 4
}
