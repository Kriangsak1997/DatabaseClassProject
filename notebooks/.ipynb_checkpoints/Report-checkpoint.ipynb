{
 "cells": [
  {
   "cell_type": "markdown",
   "metadata": {},
   "source": [
    "# (DEMO) Report for ICCS240: DBMS class project: SNPDB\n",
    "*Group Members*: Kriangsak T., Hasdin,G.\n",
    "This report refers to this attached repository : [SNPBD](https://github.com/Kriangsak1997/DatabaseClassProject)\n"
   ]
  },
  {
   "cell_type": "markdown",
   "metadata": {},
   "source": [
    "### Please treat this to be a small demo...\n",
    "First of all, we used docker to run out protgresql database: used commands can be found in the file named \"command_involvingDockerandPSQL.txt\". \n",
    "In this file, you will find what is used to map data to the container.... since i have no time (more like brain) to build a proper image for it.... Please see the following"
   ]
  },
  {
   "cell_type": "code",
   "execution_count": 6,
   "metadata": {},
   "outputs": [],
   "source": [
    "# filepath  = '/Users/kriangsak1997/Documents/MUIC/Term8/DBMS/Project/command_involvingDockerandPSQL.txt'\n",
    "# with open(filepath) as fp:\n",
    "#    line = fp.readline()\n",
    "#    cnt = 1\n",
    "#    while line:\n",
    "#        print(\"Line {}: {}\".format(cnt, line.strip()))\n",
    "#        line = fp.readline()\n",
    "#        cnt += 1"
   ]
  },
  {
   "cell_type": "markdown",
   "metadata": {},
   "source": [
    "# Connect to the Database\n",
    "After having created the database and import the file into it, we will connect to the database using Java. \n",
    "Here with help of **Maven** dependencies, it allows to very easily connect to our database, we can dp so by\n",
    "creating a Maven project.\n",
    "Then access the file: *pom.xml* <br>\n",
    "and we add the dependencies: <br>\n",
    "> </dependency/> \n",
    ">>         </groupId/> org.postgresql</groupId/> \n",
    ">>          </artifactId/>postgresql</artifactId/> \n",
    ">>          </version/>42.2.10</version/> \n",
    "> </dependency/> \n",
    "<br> "
   ]
  },
  {
   "cell_type": "markdown",
   "metadata": {},
   "source": [
    "# What is SNP?\n",
    " Here, please let me introtduce you with our schema. In case you have not heard of Single Nucleotide Polymorphisms (SNPs). <br>\n",
    "**Single nucleotide polymorphisms**, frequently called SNPs (pronounced “snips”), are the most common type of genetic variation among people. Each SNP represents a difference in a single DNA building block, called a nucleotide. For example, a SNP may replace the nucleotide cytosine (C) with the nucleotide thymine (T) in a certain stretch of DNA. <br>\n",
    "\n",
    "*SNPs* occur normally throughout a person’s DNA. They occur almost once in every 1,000 nucleotides on average, which means there are roughly 4 to 5 million SNPs in a person's genome. These variations may be unique or occur in many individuals; scientists have found more than 100 million SNPs in populations around the world. Most commonly, these variations are found in the DNA between genes. They can act as biological markers, helping scientists locate genes that are associated with disease. When SNPs occur within a gene or in a regulatory region near a gene, they may play a more direct role in disease by affecting the gene’s function.\n",
    "\n",
    "Most SNPs have no effect on health or development. Some of these genetic differences, however, have proven to be very important in the study of human health. Researchers have found SNPs that may help predict an individual’s response to certain drugs, susceptibility to environmental factors such as toxins, and risk of developing particular diseases. SNPs can also be used to track the inheritance of disease genes within families. Future studies will work to identify SNPs associated with complex diseases such as heart disease, diabetes, and cancer.\n",
    "[source](https://ghr.nlm.nih.gov/primer/genomicresearch/snp)"
   ]
  },
  {
   "cell_type": "markdown",
   "metadata": {},
   "source": [
    "# Schema Detail\n",
    "We have created the following schema:\n",
    "Note that before inserting the data into our database, we needed to do a bit of porcessing to extract our data out from the origal input data, [please refer to](https://github.com/Kriangsak1997/DatabaseClassProject/blob/master/notebooks/processing.ipynb)\n",
    "\n",
    "**SNP_DB**(Main_Gene_name  varchar, initialAA varchar,finalAA varchar,position_of_Change varchar,Type_of_Variant varchar,dbSNP varchar,Disease_name varchar)\n",
    "\n",
    "That is, \n",
    " >  *Main_Gene_name*  contains the name of the gene for each record, taking *strings* of gene names <br>\n",
    " \n",
    " > *initialAA* contains the amino acid (AA) abbreviation before a change occurs , taking *strings* of AA ,br>\n",
    " \n",
    " > *finalAA* contains the amino acid (AA) abbreviation after a change occurs , taking *strings* of AA <br>\n",
    " \n",
    " > *position_of_Change* contains the position of AA (in the change of AA chains of a gene), taking **string** of position, which later will be altered to integer type <br>\n",
    " \n",
    " > *Type_of_Variant* contains the type of variants for which an SNP causes, taking *strings* of variant types <br>\n",
    " \n",
    " > *dbSNP* take takes in database code used to access more information regarding a change in NCBI SNP database, taking strings of DB-code <br>\n",
    " \n",
    " > *Disease_name* contains the name of diseases, if applicable, caused by SNPs, taking *strings* of disease names.\n",
    "  "
   ]
  },
  {
   "cell_type": "markdown",
   "metadata": {},
   "source": [
    "### Abbreviations and Full names\n",
    "The following dataframe displays to you the full AA names corresponding to abbreviations used in our database"
   ]
  },
  {
   "cell_type": "code",
   "execution_count": 7,
   "metadata": {},
   "outputs": [
    {
     "data": {
      "text/html": [
       "<div>\n",
       "<style scoped>\n",
       "    .dataframe tbody tr th:only-of-type {\n",
       "        vertical-align: middle;\n",
       "    }\n",
       "\n",
       "    .dataframe tbody tr th {\n",
       "        vertical-align: top;\n",
       "    }\n",
       "\n",
       "    .dataframe thead th {\n",
       "        text-align: right;\n",
       "    }\n",
       "</style>\n",
       "<table border=\"1\" class=\"dataframe\">\n",
       "  <thead>\n",
       "    <tr style=\"text-align: right;\">\n",
       "      <th></th>\n",
       "      <th>Abbreviation</th>\n",
       "      <th>Ful name</th>\n",
       "    </tr>\n",
       "  </thead>\n",
       "  <tbody>\n",
       "    <tr>\n",
       "      <th>0</th>\n",
       "      <td>Ala</td>\n",
       "      <td>Alanine</td>\n",
       "    </tr>\n",
       "    <tr>\n",
       "      <th>1</th>\n",
       "      <td>Arg</td>\n",
       "      <td>Arginine</td>\n",
       "    </tr>\n",
       "    <tr>\n",
       "      <th>2</th>\n",
       "      <td>Asn</td>\n",
       "      <td>Asparagine</td>\n",
       "    </tr>\n",
       "    <tr>\n",
       "      <th>3</th>\n",
       "      <td>Asp</td>\n",
       "      <td>Aspartic acid (Aspartate)</td>\n",
       "    </tr>\n",
       "    <tr>\n",
       "      <th>4</th>\n",
       "      <td>Cys</td>\n",
       "      <td>Cysteine</td>\n",
       "    </tr>\n",
       "    <tr>\n",
       "      <th>5</th>\n",
       "      <td>Gln</td>\n",
       "      <td>Glutamine</td>\n",
       "    </tr>\n",
       "    <tr>\n",
       "      <th>6</th>\n",
       "      <td>Glu</td>\n",
       "      <td>Glutamic acid (Glutamate)</td>\n",
       "    </tr>\n",
       "    <tr>\n",
       "      <th>7</th>\n",
       "      <td>Gly</td>\n",
       "      <td>Glycine</td>\n",
       "    </tr>\n",
       "    <tr>\n",
       "      <th>8</th>\n",
       "      <td>His</td>\n",
       "      <td>Histidine</td>\n",
       "    </tr>\n",
       "    <tr>\n",
       "      <th>9</th>\n",
       "      <td>Ile</td>\n",
       "      <td>Isoleucine</td>\n",
       "    </tr>\n",
       "    <tr>\n",
       "      <th>10</th>\n",
       "      <td>Leu</td>\n",
       "      <td>Leucine</td>\n",
       "    </tr>\n",
       "    <tr>\n",
       "      <th>11</th>\n",
       "      <td>Lys</td>\n",
       "      <td>Lysine</td>\n",
       "    </tr>\n",
       "    <tr>\n",
       "      <th>12</th>\n",
       "      <td>Met</td>\n",
       "      <td>Methionine</td>\n",
       "    </tr>\n",
       "    <tr>\n",
       "      <th>13</th>\n",
       "      <td>Phe</td>\n",
       "      <td>Phenylalanine</td>\n",
       "    </tr>\n",
       "    <tr>\n",
       "      <th>14</th>\n",
       "      <td>Pro</td>\n",
       "      <td>Proline</td>\n",
       "    </tr>\n",
       "    <tr>\n",
       "      <th>15</th>\n",
       "      <td>Ser</td>\n",
       "      <td>Serine</td>\n",
       "    </tr>\n",
       "    <tr>\n",
       "      <th>16</th>\n",
       "      <td>Thr</td>\n",
       "      <td>Threonine</td>\n",
       "    </tr>\n",
       "    <tr>\n",
       "      <th>17</th>\n",
       "      <td>Trp</td>\n",
       "      <td>Tryptophan</td>\n",
       "    </tr>\n",
       "    <tr>\n",
       "      <th>18</th>\n",
       "      <td>Tyr</td>\n",
       "      <td>Tyrosine</td>\n",
       "    </tr>\n",
       "    <tr>\n",
       "      <th>19</th>\n",
       "      <td>Val</td>\n",
       "      <td>Valine</td>\n",
       "    </tr>\n",
       "  </tbody>\n",
       "</table>\n",
       "</div>"
      ],
      "text/plain": [
       "   Abbreviation                   Ful name\n",
       "0           Ala                    Alanine\n",
       "1           Arg                   Arginine\n",
       "2           Asn                 Asparagine\n",
       "3           Asp  Aspartic acid (Aspartate)\n",
       "4           Cys                   Cysteine\n",
       "5           Gln                  Glutamine\n",
       "6           Glu  Glutamic acid (Glutamate)\n",
       "7           Gly                    Glycine\n",
       "8           His                  Histidine\n",
       "9           Ile                 Isoleucine\n",
       "10          Leu                    Leucine\n",
       "11          Lys                     Lysine\n",
       "12          Met                 Methionine\n",
       "13          Phe              Phenylalanine\n",
       "14          Pro                    Proline\n",
       "15          Ser                     Serine\n",
       "16          Thr                  Threonine\n",
       "17          Trp                 Tryptophan\n",
       "18          Tyr                   Tyrosine\n",
       "19          Val                     Valine"
      ]
     },
     "execution_count": 7,
     "metadata": {},
     "output_type": "execute_result"
    }
   ],
   "source": [
    "AminoAcid_name =pd.read_csv('/Users/kriangsak1997/Documents/MUIC/Term8/DBMS/Project/aanames.csv')\n",
    "AminoAcid_name "
   ]
  },
  {
   "cell_type": "markdown",
   "metadata": {},
   "source": [
    "\n",
    "## Now we can query from out database for all: CRUD queries\n",
    "From this, we take a data-analytic approach to our database. That is, we will apply a small mining algorithm on the given dataset. "
   ]
  },
  {
   "cell_type": "markdown",
   "metadata": {},
   "source": [
    "# Associative Rule Mining with Apriori Algorithm\n",
    "for those wishing to understand more about this concept, [consult](https://blog.usejournal.com/association-rule-mining-apriori-algorithm-c517f8d7c54c)\n",
    "There are a few things to introduce for those new to Associative Rule Mining or, perhaps also, Apriori Algorithm. \n",
    "<br>\n",
    "the results of out experiments is in the file: notebooks/Association Rule Mining with Apriori algorithm.ipynb\n",
    "with a few tials of different hyperparemeters (supports, Confidence). It turns out that the with conditional probabiity of 25%, this gives out 3 frequent item set( of 2 elements): <br>\n",
    "\n",
    "**('Asp', 'Asn'), ('Tyr', 'Cys'), ('Glu', 'Lys')** \n",
    "\n",
    "This will be examined later in this demo."
   ]
  },
  {
   "cell_type": "markdown",
   "metadata": {},
   "source": [
    "In addition to the first submission, there is a need for a moer thorough anaysis of the data. To do so, the problem that was not fixed, purposely actually ^^, is that we need to convert the type of attibute **position_of_change** into an **integer** type. It is very simple to do so, we can simply run the following command to our datbase. <br>\n",
    "\n",
    "> **ALTER TABLE** snp_db **ALTER COLUMN** position_of_change **TYPE INT USING** position_of_change::integer; <br>\n",
    "\n",
    "From here on, we can do analysis associated with position of chnages and our obtained frequent itemsets obtained from associative rule mining. For simplicity, let's bring in a few functions which will later be used in this demo."
   ]
  },
  {
   "cell_type": "code",
   "execution_count": 17,
   "metadata": {},
   "outputs": [],
   "source": [
    "import psycopg2\n",
    "import pandas as pd\n",
    "import numpy as np \n",
    "from apyori import apriori\n",
    "import matplotlib.pyplot as plt\n",
    "from sqlalchemy import create_engine\n",
    "\"\"\"\n",
    "This connection function will acts as a connection factory as it is in our ConnectionFactory.java \n",
    "in this repository.\n",
    "\"\"\"\n",
    "def connection(user,pwd,host,port,db):\n",
    "    try:\n",
    "       connection = psycopg2.connect(user=user,\n",
    "                                  password=pwd,\n",
    "                                  host=host,\n",
    "                                  port=port,\n",
    "                                  database=db)\n",
    "       cursor = connection.cursor()\n",
    "       return cursor\n",
    "    except (Exception, psycopg2.Error) as error :\n",
    "        print (\"Error while fetching data from PostgreSQL\", error)\n",
    "\n",
    "\"\"\"\n",
    "this select class will return the output from input queries and return, for the moment, as a numpy array object.\n",
    "\"\"\"\n",
    "user =\"postgres\"\n",
    "pwd = \"1997\"\n",
    "host =\"localhost\"\n",
    "port = \"5432\"\n",
    "db= \"postgres\"\n",
    "def select(q):\n",
    "    c = connection(user,pwd,host,port,db)\n",
    "    c.execute(q)\n",
    "    arr = np.array(c.fetchall()) \n",
    "    return arr"
   ]
  },
  {
   "cell_type": "code",
   "execution_count": 18,
   "metadata": {},
   "outputs": [
    {
     "name": "stdout",
     "output_type": "stream",
     "text": [
      "Rule: Asp -> Asn\n",
      "Support: 0.02075531982874305\n",
      "Confidence: 0.2836185819070905\n",
      "Lift: 3.3979078152381406\n",
      "=====================================\n",
      "Rule: Cys -> Tyr\n",
      "Support: 0.021931113809189086\n",
      "Confidence: 0.25475059382422804\n",
      "Lift: 4.943690529210497\n",
      "=====================================\n",
      "Rule: Lys -> Glu\n",
      "Support: 0.03155473193175283\n",
      "Confidence: 0.3694448600927727\n",
      "Lift: 5.063445976170783\n",
      "=====================================\n"
     ]
    }
   ],
   "source": [
    "snp =pd.DataFrame(select(\"select initialAA,finalAA from snp_db\"))\n",
    "snp.columns=[ 'initialAA', 'finalAA']\n",
    "snps = []\n",
    "for row in range(0,len(snp)):\n",
    "    snps.append([str(snp.values[row,j]) for j in range(0,2)])\n",
    "association_rules = apriori(snps,min_support=0.0093,min_confidence=0.250,min_lift =3,min_length=2)\n",
    "association_results =list(association_rules)\n",
    "finals = []\n",
    "for item in association_results:                                          \n",
    "#     to display the rule, the support, the confidence, and lift for each rule in a more clear way:\n",
    "\n",
    "    # first index of the inner list\n",
    "    # Contains base item and add item\n",
    "    pair = item[0] \n",
    "    items = [x for x in pair]\n",
    "    print(\"Rule: \" + items[0] + \" -> \" + items[1])\n",
    "    finals.append((items[0],items[1]))\n",
    "\n",
    "    #second index of the inner list\n",
    "    print(\"Support: \" + str(item[1]))\n",
    "\n",
    "    #third index of the list located at 0th\n",
    "    #of the third index of the inner list\n",
    "\n",
    "    print(\"Confidence: \" + str(item[2][0][2]))\n",
    "    print(\"Lift: \" + str(item[2][0][3]))\n",
    "    print(\"=====================================\")"
   ]
  },
  {
   "cell_type": "markdown",
   "metadata": {},
   "source": [
    "# What can see learn from the following rules\n",
    "we shall try to zoom in into each of an associative frequent itemsets and see what can be drawn from it. For example, we can ask the following questions.\n",
    "> (1) What type of variants are caused by the obtained rules. <br>\n",
    "> (2) What are are the positions of change when we specify with obtained initial and final AAs. we can bin this, say, into 3 subintervals. From this quetion, we can deepen the quetion into: once binneed into 3 subintervals, which subinterval containes the largest number of changes recorded  <br>\n",
    "> (3) What exactly the frequency of those ontained frequent itemset in the scale of our datbase\n"
   ]
  },
  {
   "cell_type": "markdown",
   "metadata": {},
   "source": [
    "## (1) What type of variants are caused by the obtained rules"
   ]
  },
  {
   "cell_type": "code",
   "execution_count": 19,
   "metadata": {},
   "outputs": [
    {
     "data": {
      "text/html": [
       "<div>\n",
       "<style scoped>\n",
       "    .dataframe tbody tr th:only-of-type {\n",
       "        vertical-align: middle;\n",
       "    }\n",
       "\n",
       "    .dataframe tbody tr th {\n",
       "        vertical-align: top;\n",
       "    }\n",
       "\n",
       "    .dataframe thead th {\n",
       "        text-align: right;\n",
       "    }\n",
       "</style>\n",
       "<table border=\"1\" class=\"dataframe\">\n",
       "  <thead>\n",
       "    <tr style=\"text-align: right;\">\n",
       "      <th></th>\n",
       "      <th>Disease</th>\n",
       "      <th>Polymorphism</th>\n",
       "      <th>Unclassified</th>\n",
       "    </tr>\n",
       "    <tr>\n",
       "      <th>Rule\\Type of Variant</th>\n",
       "      <th></th>\n",
       "      <th></th>\n",
       "      <th></th>\n",
       "    </tr>\n",
       "  </thead>\n",
       "  <tbody>\n",
       "    <tr>\n",
       "      <th>Asp -&gt; Asn</th>\n",
       "      <td>457</td>\n",
       "      <td>592</td>\n",
       "      <td>147</td>\n",
       "    </tr>\n",
       "    <tr>\n",
       "      <th>Tyr -&gt; Cys</th>\n",
       "      <td>574</td>\n",
       "      <td>285</td>\n",
       "      <td>80</td>\n",
       "    </tr>\n",
       "    <tr>\n",
       "      <th>Glu -&gt; Lys</th>\n",
       "      <td>785</td>\n",
       "      <td>813</td>\n",
       "      <td>214</td>\n",
       "    </tr>\n",
       "  </tbody>\n",
       "</table>\n",
       "</div>"
      ],
      "text/plain": [
       "                      Disease  Polymorphism  Unclassified\n",
       "Rule\\Type of Variant                                     \n",
       "Asp -> Asn                457           592           147\n",
       "Tyr -> Cys                574           285            80\n",
       "Glu -> Lys                785           813           214"
      ]
     },
     "execution_count": 19,
     "metadata": {},
     "output_type": "execute_result"
    }
   ],
   "source": [
    "#Prepare the queries for the 3 rules\n",
    "final_Queries = [\"select count(main_gene_name) from snp_db where initialaa='Asp' and finalaa = 'Asn' group by type_of_variant;\",\n",
    "                \"select count(main_gene_name) from snp_db where initialaa='Tyr' and finalaa = 'Cys' group by type_of_variant; \",\n",
    "                 \"select count(main_gene_name) from snp_db where initialaa='Glu' and finalaa = 'Lys' group by type_of_variant;\"]\n",
    "records= [select(final_Queries[i]).T.flatten().tolist() for i in range(3)]\n",
    "framessss = pd.DataFrame(records)\n",
    "framessss.insert(0,\"Rule\",[\"Asp -> Asn\", \"Tyr -> Cys\", \"Glu -> Lys\"],True)\n",
    "framessss.columns = [\"Rule\\Type of Variant\",\"Disease\",\"Polymorphism\",\"Unclassified\"] \n",
    "#note that pqsl return the count in alphabetical order. \n",
    "framessss.set_index(['Rule\\Type of Variant'])"
   ]
  },
  {
   "cell_type": "code",
   "execution_count": 22,
   "metadata": {},
   "outputs": [],
   "source": [
    "# framessss.to_csv(r'/Users/kriangsak1997/Documents/MUIC/Term8/DBMS/Project/frequent_thingy.csv', index = False)"
   ]
  },
  {
   "cell_type": "code",
   "execution_count": 25,
   "metadata": {},
   "outputs": [],
   "source": [
    "check = \"select * from frequent_things\""
   ]
  },
  {
   "cell_type": "markdown",
   "metadata": {},
   "source": [
    "Here we go, the above dataframe displays different types of variants based on the given associative rules. \n",
    "It is obvious to see that  2 out of 3 rules (Asp -> Asn,Glu -> Lys), when these changes occur, they give rise to polymorphism more than the other two types of genetic variations"
   ]
  },
  {
   "cell_type": "markdown",
   "metadata": {},
   "source": [
    "## (2) Binning of positions of changes\n",
    "like we said earilier, we would like to know What are are the positions of change when we specify with obtained initial and final AAs. we can bin this, say, into 3 subintervals. From this quetion, we can deepen the quetion into: once binneed into 3 subintervals, which subinterval containes the largest number of changes recorded. Here is the plans of what we are going to do in the next few cells <br>\n",
    "\n",
    "> First, we want to bin the entire dataset <br>\n",
    "> Second, we will do the same for each of the 3 obtained assiciative frequent itemset.<br>\n",
    "> finally, we will compare the result accordingly."
   ]
  },
  {
   "cell_type": "markdown",
   "metadata": {},
   "source": [
    "### Binning the whole dataset\n"
   ]
  },
  {
   "cell_type": "code",
   "execution_count": 12,
   "metadata": {},
   "outputs": [],
   "source": [
    "counts, bins = np.histogram(select(\"select position_of_change from snp_db\"),3)\n",
    "# plt.hist(bins[:-1], bins, weights=counts)\n"
   ]
  },
  {
   "cell_type": "code",
   "execution_count": null,
   "metadata": {},
   "outputs": [],
   "source": []
  }
 ],
 "metadata": {
  "kernelspec": {
   "display_name": "Python 3",
   "language": "python",
   "name": "python3"
  },
  "language_info": {
   "codemirror_mode": {
    "name": "ipython",
    "version": 3
   },
   "file_extension": ".py",
   "mimetype": "text/x-python",
   "name": "python",
   "nbconvert_exporter": "python",
   "pygments_lexer": "ipython3",
   "version": "3.7.4"
  }
 },
 "nbformat": 4,
 "nbformat_minor": 4
}
