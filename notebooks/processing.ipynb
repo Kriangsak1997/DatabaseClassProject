{
 "cells": [
  {
   "cell_type": "code",
   "execution_count": 3,
   "metadata": {},
   "outputs": [],
   "source": [
    "import pandas as pd"
   ]
  },
  {
   "cell_type": "code",
   "execution_count": 130,
   "metadata": {},
   "outputs": [
    {
     "data": {
      "text/plain": [
       "Index(['Main Gene name', 'Swiss-Prot AC', 'FTId', 'AA Change',\n",
       "       'Type of Variant', 'dbSNP', ' Disease name'],\n",
       "      dtype='object')"
      ]
     },
     "execution_count": 130,
     "metadata": {},
     "output_type": "execute_result"
    }
   ],
   "source": [
    "db=pd.read_csv('/Users/kriangsak1997/Documents/MUIC/Term8/DBMS/Project/humsavar.csv')\n",
    "db.columns"
   ]
  },
  {
   "cell_type": "code",
   "execution_count": 126,
   "metadata": {},
   "outputs": [
    {
     "data": {
      "text/plain": [
       "0         p.His52Arg\n",
       "1        p.His395Arg\n",
       "2        p.Val555Met\n",
       "3        p.Ala558Ser\n",
       "4        p.Gly207Arg\n",
       "            ...     \n",
       "78239    p.Thr131Pro\n",
       "78240     p.Arg37His\n",
       "78241    p.Arg171Ser\n",
       "78242     p.Val81Leu\n",
       "78243    p.Phe150Leu\n",
       "Name: AA Change, Length: 78244, dtype: object"
      ]
     },
     "execution_count": 126,
     "metadata": {},
     "output_type": "execute_result"
    }
   ],
   "source": [
    "aaChange = db['AA Change']\n",
    "aaChange"
   ]
  },
  {
   "cell_type": "markdown",
   "metadata": {},
   "source": [
    "## Extract the initial and Final AAs with their position  "
   ]
  },
  {
   "cell_type": "code",
   "execution_count": 109,
   "metadata": {},
   "outputs": [],
   "source": [
    "def extract(ls):\n",
    "    iAA =[]\n",
    "    fAA = []\n",
    "    posChange = []\n",
    "    for item in ls:   \n",
    "        iAA+= [item[2:5]]\n",
    "        fAA+=[item[-3:]]\n",
    "        posChange +=  [item[5:-3]]\n",
    "    return iAA,fAA,posChange"
   ]
  },
  {
   "cell_type": "code",
   "execution_count": 124,
   "metadata": {},
   "outputs": [],
   "source": [
    "initialaa,finalaa,position = extract(aaChange)"
   ]
  },
  {
   "cell_type": "markdown",
   "metadata": {},
   "source": [
    "# Database Schema\n",
    "SNP(Main_Gene_name, initialAA, finalAA, position, Type_of_Variant, dbSNP, Disease_name) "
   ]
  },
  {
   "cell_type": "code",
   "execution_count": null,
   "metadata": {},
   "outputs": [],
   "source": []
  }
 ],
 "metadata": {
  "kernelspec": {
   "display_name": "Python 3",
   "language": "python",
   "name": "python3"
  },
  "language_info": {
   "codemirror_mode": {
    "name": "ipython",
    "version": 3
   },
   "file_extension": ".py",
   "mimetype": "text/x-python",
   "name": "python",
   "nbconvert_exporter": "python",
   "pygments_lexer": "ipython3",
   "version": "3.7.4"
  }
 },
 "nbformat": 4,
 "nbformat_minor": 4
}
