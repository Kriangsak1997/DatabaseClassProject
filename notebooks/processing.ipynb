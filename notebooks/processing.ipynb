{
 "cells": [
  {
   "cell_type": "code",
   "execution_count": 1,
   "metadata": {},
   "outputs": [
    {
     "name": "stderr",
     "output_type": "stream",
     "text": [
      "/Users/kriangsak1997/.pyenv/versions/3.7.4/lib/python3.7/site-packages/pandas/compat/__init__.py:117: UserWarning: Could not import the lzma module. Your installed Python is incomplete. Attempting to use lzma compression will result in a RuntimeError.\n",
      "  warnings.warn(msg)\n"
     ]
    }
   ],
   "source": [
    "import pandas as pd\n",
    "import numpy as np"
   ]
  },
  {
   "cell_type": "code",
   "execution_count": 4,
   "metadata": {},
   "outputs": [
    {
     "data": {
      "text/html": [
       "<div>\n",
       "<style scoped>\n",
       "    .dataframe tbody tr th:only-of-type {\n",
       "        vertical-align: middle;\n",
       "    }\n",
       "\n",
       "    .dataframe tbody tr th {\n",
       "        vertical-align: top;\n",
       "    }\n",
       "\n",
       "    .dataframe thead th {\n",
       "        text-align: right;\n",
       "    }\n",
       "</style>\n",
       "<table border=\"1\" class=\"dataframe\">\n",
       "  <thead>\n",
       "    <tr style=\"text-align: right;\">\n",
       "      <th></th>\n",
       "      <th>Main_Gene_name</th>\n",
       "      <th>initialAA</th>\n",
       "      <th>finalAA</th>\n",
       "      <th>position_of_Change</th>\n",
       "      <th>Type_of_Variant</th>\n",
       "      <th>dbSNP</th>\n",
       "      <th>Disease_name</th>\n",
       "    </tr>\n",
       "  </thead>\n",
       "  <tbody>\n",
       "    <tr>\n",
       "      <th>0</th>\n",
       "      <td>A1BG</td>\n",
       "      <td>His</td>\n",
       "      <td>Arg</td>\n",
       "      <td>52</td>\n",
       "      <td>Polymorphism</td>\n",
       "      <td>rs893184</td>\n",
       "      <td>-</td>\n",
       "    </tr>\n",
       "    <tr>\n",
       "      <th>1</th>\n",
       "      <td>A1BG</td>\n",
       "      <td>His</td>\n",
       "      <td>Arg</td>\n",
       "      <td>395</td>\n",
       "      <td>Polymorphism</td>\n",
       "      <td>rs2241788</td>\n",
       "      <td>-</td>\n",
       "    </tr>\n",
       "    <tr>\n",
       "      <th>2</th>\n",
       "      <td>A1CF</td>\n",
       "      <td>Val</td>\n",
       "      <td>Met</td>\n",
       "      <td>555</td>\n",
       "      <td>Polymorphism</td>\n",
       "      <td>rs9073</td>\n",
       "      <td>-</td>\n",
       "    </tr>\n",
       "    <tr>\n",
       "      <th>3</th>\n",
       "      <td>A1CF</td>\n",
       "      <td>Ala</td>\n",
       "      <td>Ser</td>\n",
       "      <td>558</td>\n",
       "      <td>Polymorphism</td>\n",
       "      <td>rs11817448</td>\n",
       "      <td>-</td>\n",
       "    </tr>\n",
       "    <tr>\n",
       "      <th>4</th>\n",
       "      <td>A2ML1</td>\n",
       "      <td>Gly</td>\n",
       "      <td>Arg</td>\n",
       "      <td>207</td>\n",
       "      <td>Polymorphism</td>\n",
       "      <td>rs11047499</td>\n",
       "      <td>-</td>\n",
       "    </tr>\n",
       "    <tr>\n",
       "      <th>...</th>\n",
       "      <td>...</td>\n",
       "      <td>...</td>\n",
       "      <td>...</td>\n",
       "      <td>...</td>\n",
       "      <td>...</td>\n",
       "      <td>...</td>\n",
       "      <td>...</td>\n",
       "    </tr>\n",
       "    <tr>\n",
       "      <th>78239</th>\n",
       "      <td>-</td>\n",
       "      <td>Thr</td>\n",
       "      <td>Pro</td>\n",
       "      <td>131</td>\n",
       "      <td>Polymorphism</td>\n",
       "      <td>rs6519442</td>\n",
       "      <td>-</td>\n",
       "    </tr>\n",
       "    <tr>\n",
       "      <th>78240</th>\n",
       "      <td>-</td>\n",
       "      <td>Arg</td>\n",
       "      <td>His</td>\n",
       "      <td>37</td>\n",
       "      <td>Polymorphism</td>\n",
       "      <td>rs350229</td>\n",
       "      <td>-</td>\n",
       "    </tr>\n",
       "    <tr>\n",
       "      <th>78241</th>\n",
       "      <td>-</td>\n",
       "      <td>Arg</td>\n",
       "      <td>Ser</td>\n",
       "      <td>171</td>\n",
       "      <td>Polymorphism</td>\n",
       "      <td>rs11648228</td>\n",
       "      <td>-</td>\n",
       "    </tr>\n",
       "    <tr>\n",
       "      <th>78242</th>\n",
       "      <td>-</td>\n",
       "      <td>Val</td>\n",
       "      <td>Leu</td>\n",
       "      <td>81</td>\n",
       "      <td>Polymorphism</td>\n",
       "      <td>-</td>\n",
       "      <td>-</td>\n",
       "    </tr>\n",
       "    <tr>\n",
       "      <th>78243</th>\n",
       "      <td>-</td>\n",
       "      <td>Phe</td>\n",
       "      <td>Leu</td>\n",
       "      <td>150</td>\n",
       "      <td>Polymorphism</td>\n",
       "      <td>-</td>\n",
       "      <td>-</td>\n",
       "    </tr>\n",
       "  </tbody>\n",
       "</table>\n",
       "<p>78244 rows × 7 columns</p>\n",
       "</div>"
      ],
      "text/plain": [
       "      Main_Gene_name initialAA finalAA  position_of_Change Type_of_Variant  \\\n",
       "0               A1BG       His     Arg                  52    Polymorphism   \n",
       "1               A1BG       His     Arg                 395    Polymorphism   \n",
       "2               A1CF       Val     Met                 555    Polymorphism   \n",
       "3               A1CF       Ala     Ser                 558    Polymorphism   \n",
       "4              A2ML1       Gly     Arg                 207    Polymorphism   \n",
       "...              ...       ...     ...                 ...             ...   \n",
       "78239              -       Thr     Pro                 131    Polymorphism   \n",
       "78240              -       Arg     His                  37    Polymorphism   \n",
       "78241              -       Arg     Ser                 171    Polymorphism   \n",
       "78242              -       Val     Leu                  81    Polymorphism   \n",
       "78243              -       Phe     Leu                 150    Polymorphism   \n",
       "\n",
       "            dbSNP Disease_name  \n",
       "0        rs893184           -   \n",
       "1       rs2241788           -   \n",
       "2          rs9073           -   \n",
       "3      rs11817448           -   \n",
       "4      rs11047499           -   \n",
       "...           ...          ...  \n",
       "78239   rs6519442           -   \n",
       "78240    rs350229           -   \n",
       "78241  rs11648228           -   \n",
       "78242           -           -   \n",
       "78243           -           -   \n",
       "\n",
       "[78244 rows x 7 columns]"
      ]
     },
     "execution_count": 4,
     "metadata": {},
     "output_type": "execute_result"
    }
   ],
   "source": [
    "snp_relaton = pd.read_csv('/Users/kriangsak1997/Documents/MUIC/Term8/DBMS/Project/snp_relation.csv')\n",
    "snp_relaton"
   ]
  },
  {
   "cell_type": "code",
   "execution_count": 3,
   "metadata": {
    "scrolled": true
   },
   "outputs": [
    {
     "data": {
      "text/plain": [
       "Index(['Main Gene name', 'Swiss-Prot AC', 'FTId', 'AA Change',\n",
       "       'Type of Variant', 'dbSNP', ' Disease name'],\n",
       "      dtype='object')"
      ]
     },
     "execution_count": 3,
     "metadata": {},
     "output_type": "execute_result"
    }
   ],
   "source": [
    "db=pd.read_csv('/Users/kriangsak1997/Documents/MUIC/Term8/DBMS/Project/humsavar.csv')\n",
    "db.columns"
   ]
  },
  {
   "cell_type": "code",
   "execution_count": 126,
   "metadata": {},
   "outputs": [
    {
     "data": {
      "text/plain": [
       "0         p.His52Arg\n",
       "1        p.His395Arg\n",
       "2        p.Val555Met\n",
       "3        p.Ala558Ser\n",
       "4        p.Gly207Arg\n",
       "            ...     \n",
       "78239    p.Thr131Pro\n",
       "78240     p.Arg37His\n",
       "78241    p.Arg171Ser\n",
       "78242     p.Val81Leu\n",
       "78243    p.Phe150Leu\n",
       "Name: AA Change, Length: 78244, dtype: object"
      ]
     },
     "execution_count": 126,
     "metadata": {},
     "output_type": "execute_result"
    }
   ],
   "source": [
    "aaChange = db['AA Change']\n",
    "aaChange"
   ]
  },
  {
   "cell_type": "markdown",
   "metadata": {},
   "source": [
    "## Extract the initial and Final AAs with their position  "
   ]
  },
  {
   "cell_type": "code",
   "execution_count": 109,
   "metadata": {},
   "outputs": [],
   "source": [
    "def extract(ls):\n",
    "    iAA =[]\n",
    "    fAA = []\n",
    "    posChange = []\n",
    "    for item in ls:   \n",
    "        iAA+= [item[2:5]]\n",
    "        fAA+=[item[-3:]]\n",
    "        posChange +=  [item[5:-3]]\n",
    "    return iAA,fAA,posChange"
   ]
  },
  {
   "cell_type": "code",
   "execution_count": 136,
   "metadata": {},
   "outputs": [],
   "source": [
    "initialaa,finalaa,position = extract(aaChange)"
   ]
  },
  {
   "cell_type": "markdown",
   "metadata": {},
   "source": [
    "# Database Schema\n",
    "SNP(Main_Gene_name, initialAA, finalAA, position, Type_of_Variant, dbSNP, Disease_name) "
   ]
  },
  {
   "cell_type": "code",
   "execution_count": 137,
   "metadata": {},
   "outputs": [],
   "source": [
    "attr = {'Main_Gene_name': db['Main Gene name'],'initialAA': initialaa, 'finalAA': finalaa, \n",
    "        'position_of_Change':position, 'Type_of_Variant':db['Type of Variant'], 'dbSNP': db['dbSNP'],\n",
    "        'Disease_name': db[' Disease name']\n",
    "       }\n",
    "snp = pd.DataFrame(attr)\n"
   ]
  },
  {
   "cell_type": "markdown",
   "metadata": {},
   "source": [
    "# Write to CSV"
   ]
  },
  {
   "cell_type": "code",
   "execution_count": 140,
   "metadata": {},
   "outputs": [],
   "source": [
    "# snp.to_csv(r'/Users/kriangsak1997/Documents/MUIC/Term8/DBMS/Project/snp_relation.csv', index = False)"
   ]
  },
  {
   "cell_type": "code",
   "execution_count": null,
   "metadata": {},
   "outputs": [],
   "source": []
  }
 ],
 "metadata": {
  "kernelspec": {
   "display_name": "Python 3",
   "language": "python",
   "name": "python3"
  },
  "language_info": {
   "codemirror_mode": {
    "name": "ipython",
    "version": 3
   },
   "file_extension": ".py",
   "mimetype": "text/x-python",
   "name": "python",
   "nbconvert_exporter": "python",
   "pygments_lexer": "ipython3",
   "version": "3.7.4"
  }
 },
 "nbformat": 4,
 "nbformat_minor": 4
}
