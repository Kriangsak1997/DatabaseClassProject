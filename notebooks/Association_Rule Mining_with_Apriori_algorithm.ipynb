{
 "cells": [
  {
   "cell_type": "code",
   "execution_count": 83,
   "metadata": {},
   "outputs": [],
   "source": [
    "import psycopg2\n",
    "import pandas as pd\n",
    "import numpy as np \n",
    "from apyori import apriori\n",
    "import matplotlib.pyplot as plt"
   ]
  },
  {
   "cell_type": "code",
   "execution_count": 4,
   "metadata": {},
   "outputs": [],
   "source": [
    "def connection(user,pwd,host,port,db):\n",
    "    try:\n",
    "    \n",
    "       connection = psycopg2.connect(user=user,\n",
    "                                  password=pwd,\n",
    "                                  host=host,\n",
    "                                  port=port,\n",
    "                                  database=db)\n",
    "       cursor = connection.cursor()\n",
    "       return cursor\n",
    "    except (Exception, psycopg2.Error) as error :\n",
    "        print (\"Error while fetching data from PostgreSQL\", error)\n"
   ]
  },
  {
   "cell_type": "code",
   "execution_count": 5,
   "metadata": {},
   "outputs": [],
   "source": [
    "user =\"postgres\"\n",
    "pwd = \"1997\"\n",
    "host =\"localhost\"\n",
    "port = \"5432\"\n",
    "db= \"postgres\"\n",
    "\n"
   ]
  },
  {
   "cell_type": "code",
   "execution_count": 64,
   "metadata": {},
   "outputs": [],
   "source": [
    "query = \"select initialAA,finalAA from snp_db \"\n",
    "def select(q):\n",
    "    c = connection(user,pwd,host,port,db)\n",
    "    c.execute(q)\n",
    "    arr = np.array(c.fetchall())\n",
    "    return arr"
   ]
  },
  {
   "cell_type": "code",
   "execution_count": 56,
   "metadata": {},
   "outputs": [],
   "source": [
    "snp =pd.DataFrame(select(query))\n",
    "snp.columns=[ 'initialAA', 'finalAA']"
   ]
  },
  {
   "cell_type": "code",
   "execution_count": 57,
   "metadata": {},
   "outputs": [],
   "source": []
  },
  {
   "cell_type": "code",
   "execution_count": 9,
   "metadata": {},
   "outputs": [
    {
     "data": {
      "text/html": [
       "<div>\n",
       "<style scoped>\n",
       "    .dataframe tbody tr th:only-of-type {\n",
       "        vertical-align: middle;\n",
       "    }\n",
       "\n",
       "    .dataframe tbody tr th {\n",
       "        vertical-align: top;\n",
       "    }\n",
       "\n",
       "    .dataframe thead th {\n",
       "        text-align: right;\n",
       "    }\n",
       "</style>\n",
       "<table border=\"1\" class=\"dataframe\">\n",
       "  <thead>\n",
       "    <tr style=\"text-align: right;\">\n",
       "      <th></th>\n",
       "      <th>initialAA</th>\n",
       "      <th>finalAA</th>\n",
       "    </tr>\n",
       "  </thead>\n",
       "  <tbody>\n",
       "    <tr>\n",
       "      <th>0</th>\n",
       "      <td>His</td>\n",
       "      <td>Arg</td>\n",
       "    </tr>\n",
       "    <tr>\n",
       "      <th>1</th>\n",
       "      <td>His</td>\n",
       "      <td>Arg</td>\n",
       "    </tr>\n",
       "    <tr>\n",
       "      <th>2</th>\n",
       "      <td>Val</td>\n",
       "      <td>Met</td>\n",
       "    </tr>\n",
       "    <tr>\n",
       "      <th>3</th>\n",
       "      <td>Ala</td>\n",
       "      <td>Ser</td>\n",
       "    </tr>\n",
       "    <tr>\n",
       "      <th>4</th>\n",
       "      <td>Gly</td>\n",
       "      <td>Arg</td>\n",
       "    </tr>\n",
       "    <tr>\n",
       "      <th>...</th>\n",
       "      <td>...</td>\n",
       "      <td>...</td>\n",
       "    </tr>\n",
       "    <tr>\n",
       "      <th>78242</th>\n",
       "      <td>Val</td>\n",
       "      <td>Leu</td>\n",
       "    </tr>\n",
       "    <tr>\n",
       "      <th>78243</th>\n",
       "      <td>Phe</td>\n",
       "      <td>Leu</td>\n",
       "    </tr>\n",
       "    <tr>\n",
       "      <th>78244</th>\n",
       "      <td>arg</td>\n",
       "      <td>his</td>\n",
       "    </tr>\n",
       "    <tr>\n",
       "      <th>78245</th>\n",
       "      <td>his</td>\n",
       "      <td>Arg</td>\n",
       "    </tr>\n",
       "    <tr>\n",
       "      <th>78246</th>\n",
       "      <td>Are</td>\n",
       "      <td>erA</td>\n",
       "    </tr>\n",
       "  </tbody>\n",
       "</table>\n",
       "<p>78247 rows × 2 columns</p>\n",
       "</div>"
      ],
      "text/plain": [
       "      initialAA finalAA\n",
       "0           His     Arg\n",
       "1           His     Arg\n",
       "2           Val     Met\n",
       "3           Ala     Ser\n",
       "4           Gly     Arg\n",
       "...         ...     ...\n",
       "78242       Val     Leu\n",
       "78243       Phe     Leu\n",
       "78244       arg     his\n",
       "78245       his     Arg\n",
       "78246       Are     erA\n",
       "\n",
       "[78247 rows x 2 columns]"
      ]
     },
     "execution_count": 9,
     "metadata": {},
     "output_type": "execute_result"
    }
   ],
   "source": [
    "snp"
   ]
  },
  {
   "cell_type": "code",
   "execution_count": 186,
   "metadata": {},
   "outputs": [],
   "source": [
    "# snps = []\n",
    "# for row in range(0,len(snp)):\n",
    "#     snps.append([str(snp.values[row,j]) for j in range(0,2)])"
   ]
  },
  {
   "cell_type": "code",
   "execution_count": 209,
   "metadata": {},
   "outputs": [
    {
     "data": {
      "text/html": [
       "<div>\n",
       "<style scoped>\n",
       "    .dataframe tbody tr th:only-of-type {\n",
       "        vertical-align: middle;\n",
       "    }\n",
       "\n",
       "    .dataframe tbody tr th {\n",
       "        vertical-align: top;\n",
       "    }\n",
       "\n",
       "    .dataframe thead th {\n",
       "        text-align: right;\n",
       "    }\n",
       "</style>\n",
       "<table border=\"1\" class=\"dataframe\">\n",
       "  <thead>\n",
       "    <tr style=\"text-align: right;\">\n",
       "      <th></th>\n",
       "      <th>items</th>\n",
       "      <th>support</th>\n",
       "      <th>ordered_statistics</th>\n",
       "    </tr>\n",
       "  </thead>\n",
       "  <tbody>\n",
       "    <tr>\n",
       "      <th>0</th>\n",
       "      <td>(Asp, Asn)</td>\n",
       "      <td>0.020756</td>\n",
       "      <td>[((Asn), (Asp), 0.28361858190709044, 3.3978643...</td>\n",
       "    </tr>\n",
       "    <tr>\n",
       "      <th>1</th>\n",
       "      <td>(Tyr, Cys)</td>\n",
       "      <td>0.021931</td>\n",
       "      <td>[((Cys), (Tyr), 0.25475059382422804, 4.9436273...</td>\n",
       "    </tr>\n",
       "    <tr>\n",
       "      <th>2</th>\n",
       "      <td>(Glu, Lys)</td>\n",
       "      <td>0.031555</td>\n",
       "      <td>[((Glu), (Lys), 0.36944486009277266, 5.0633812...</td>\n",
       "    </tr>\n",
       "  </tbody>\n",
       "</table>\n",
       "</div>"
      ],
      "text/plain": [
       "        items   support                                 ordered_statistics\n",
       "0  (Asp, Asn)  0.020756  [((Asn), (Asp), 0.28361858190709044, 3.3978643...\n",
       "1  (Tyr, Cys)  0.021931  [((Cys), (Tyr), 0.25475059382422804, 4.9436273...\n",
       "2  (Glu, Lys)  0.031555  [((Glu), (Lys), 0.36944486009277266, 5.0633812..."
      ]
     },
     "execution_count": 209,
     "metadata": {},
     "output_type": "execute_result"
    }
   ],
   "source": [
    "# association_rules = apriori(snps,min_support=0.0093,min_confidence=0.250,min_lift =3,min_length=2)\n",
    "# association_results =list(association_rules)\n",
    "# pd.DataFrame(association_results)"
   ]
  },
  {
   "cell_type": "code",
   "execution_count": 210,
   "metadata": {},
   "outputs": [
    {
     "data": {
      "text/plain": [
       "[RelationRecord(items=frozenset({'Asp', 'Asn'}), support=0.020755585092786667, ordered_statistics=[OrderedStatistic(items_base=frozenset({'Asn'}), items_add=frozenset({'Asp'}), confidence=0.28361858190709044, lift=3.3978643887212345)]),\n",
       " RelationRecord(items=frozenset({'Tyr', 'Cys'}), support=0.02193139410050611, ordered_statistics=[OrderedStatistic(items_base=frozenset({'Cys'}), items_add=frozenset({'Tyr'}), confidence=0.25475059382422804, lift=4.943627347019568), OrderedStatistic(items_base=frozenset({'Tyr'}), items_add=frozenset({'Cys'}), confidence=0.42559523809523814, lift=4.943627347019569)]),\n",
       " RelationRecord(items=frozenset({'Glu', 'Lys'}), support=0.031555135218035886, ordered_statistics=[OrderedStatistic(items_base=frozenset({'Glu'}), items_add=frozenset({'Lys'}), confidence=0.36944486009277266, lift=5.06338126346101), OrderedStatistic(items_base=frozenset({'Lys'}), items_add=frozenset({'Glu'}), confidence=0.4324750394114556, lift=5.06338126346101)])]"
      ]
     },
     "execution_count": 210,
     "metadata": {},
     "output_type": "execute_result"
    }
   ],
   "source": [
    "association_results"
   ]
  },
  {
   "cell_type": "code",
   "execution_count": 221,
   "metadata": {},
   "outputs": [
    {
     "name": "stdout",
     "output_type": "stream",
     "text": [
      "Rule: Asp -> Asn\n",
      "Support: 0.020755585092786667\n",
      "Confidence: 0.28361858190709044\n",
      "Lift: 3.3978643887212345\n",
      "=====================================\n",
      "Rule: Tyr -> Cys\n",
      "Support: 0.02193139410050611\n",
      "Confidence: 0.25475059382422804\n",
      "Lift: 4.943627347019568\n",
      "=====================================\n",
      "Rule: Glu -> Lys\n",
      "Support: 0.031555135218035886\n",
      "Confidence: 0.36944486009277266\n",
      "Lift: 5.06338126346101\n",
      "=====================================\n"
     ]
    }
   ],
   "source": [
    "# finals = []\n",
    "# for item in association_results:                                          \n",
    "# #     to display the rule, the support, the confidence, and lift for each rule in a more clear way:\n",
    "\n",
    "#     # first index of the inner list\n",
    "#     # Contains base item and add item\n",
    "#     pair = item[0] \n",
    "#     items = [x for x in pair]\n",
    "#     print(\"Rule: \" + items[0] + \" -> \" + items[1])\n",
    "#     finals.append((items[0],items[1]))\n",
    "\n",
    "#     #second index of the inner list\n",
    "#     print(\"Support: \" + str(item[1]))\n",
    "\n",
    "#     #third index of the list located at 0th\n",
    "#     #of the third index of the inner list\n",
    "\n",
    "#     print(\"Confidence: \" + str(item[2][0][2]))\n",
    "#     print(\"Lift: \" + str(item[2][0][3]))\n",
    "#     print(\"=====================================\")"
   ]
  },
  {
   "cell_type": "code",
   "execution_count": 223,
   "metadata": {},
   "outputs": [
    {
     "data": {
      "text/plain": [
       "[('Asp', 'Asn'), ('Tyr', 'Cys'), ('Glu', 'Lys')]"
      ]
     },
     "execution_count": 223,
     "metadata": {},
     "output_type": "execute_result"
    }
   ],
   "source": [
    "finals #this is the association rules that we obtained from the database"
   ]
  },
  {
   "cell_type": "code",
   "execution_count": 191,
   "metadata": {},
   "outputs": [
    {
     "name": "stdout",
     "output_type": "stream",
     "text": [
      "2.0\n",
      "11439.666666666666\n",
      "22877.333333333332\n",
      "34315.0\n",
      "78023\n",
      "108\n",
      "114\n"
     ]
    },
    {
     "data": {
      "text/plain": [
       "[None, None, None]"
      ]
     },
     "execution_count": 191,
     "metadata": {},
     "output_type": "execute_result"
    }
   ],
   "source": [
    "\n",
    "counts, bins = np.histogram(pos,3)\n",
    "# plt.hist(bins[:-1], bins, weights=counts)\n",
    "[print(item) for item in bins]\n",
    "[print(count) for count in counts]"
   ]
  }
 ],
 "metadata": {
  "kernelspec": {
   "display_name": "Python 3",
   "language": "python",
   "name": "python3"
  },
  "language_info": {
   "codemirror_mode": {
    "name": "ipython",
    "version": 3
   },
   "file_extension": ".py",
   "mimetype": "text/x-python",
   "name": "python",
   "nbconvert_exporter": "python",
   "pygments_lexer": "ipython3",
   "version": "3.7.4"
  }
 },
 "nbformat": 4,
 "nbformat_minor": 4
}
