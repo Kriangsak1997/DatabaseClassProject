{
 "cells": [
  {
   "cell_type": "code",
   "execution_count": 79,
   "metadata": {},
   "outputs": [],
   "source": [
    "import psycopg2\n",
    "import pandas as pd\n",
    "import numpy as np \n",
    "from apyori import apriori\n"
   ]
  },
  {
   "cell_type": "code",
   "execution_count": 20,
   "metadata": {},
   "outputs": [],
   "source": [
    "def connection(user,pwd,host,port,db):\n",
    "    try:\n",
    "    \n",
    "       connection = psycopg2.connect(user=user,\n",
    "                                  password=pwd,\n",
    "                                  host=host,\n",
    "                                  port=port,\n",
    "                                  database=db)\n",
    "       cursor = connection.cursor()\n",
    "       return cursor\n",
    "#    postgreSQL_select_Query = \"select * from snp_db limit 5\"\n",
    "\n",
    "#    cursor.execute(postgreSQL_select_Query)\n",
    "#    print(\"Selecting rows from snp_db table using cursor.fetchall\")\n",
    "#    records = cursor.fetchall() t\n",
    "   \n",
    "#    print(\"Print each row and it's columns values\")\n",
    "#    for row in records:\n",
    "#        print(row)\n",
    "\n",
    "    except (Exception, psycopg2.Error) as error :\n",
    "        print (\"Error while fetching data from PostgreSQL\", error)\n",
    "\n",
    "#     finally:\n",
    "#         #closing database connection.\n",
    "#         if(connection):\n",
    "#             cursor.close()\n",
    "#             connection.close()\n",
    "#             print(\"PostgreSQL connection is closed\")"
   ]
  },
  {
   "cell_type": "code",
   "execution_count": 19,
   "metadata": {},
   "outputs": [
    {
     "name": "stdout",
     "output_type": "stream",
     "text": [
      "PostgreSQL connection is closed\n"
     ]
    }
   ],
   "source": [
    "user =\"postgres\"\n",
    "pwd = \"1997\"\n",
    "host =\"localhost\"\n",
    "port = \"5432\"\n",
    "db= \"postgres\"\n",
    "\n"
   ]
  },
  {
   "cell_type": "code",
   "execution_count": 182,
   "metadata": {},
   "outputs": [],
   "source": [
    "query = \"select initialAA,finalAA from snp_db \"\n",
    "def select(q):\n",
    "    c = connection(user,pwd,host,port,db)\n",
    "    c.execute(q)\n",
    "    df = pd.DataFrame(c.fetchall())\n",
    "\n",
    "    return df\n"
   ]
  },
  {
   "cell_type": "code",
   "execution_count": 183,
   "metadata": {},
   "outputs": [],
   "source": [
    "snp =select(query)"
   ]
  },
  {
   "cell_type": "code",
   "execution_count": 184,
   "metadata": {},
   "outputs": [],
   "source": [
    "snp.columns=[ 'initialAA', 'finalAA']"
   ]
  },
  {
   "cell_type": "code",
   "execution_count": 185,
   "metadata": {},
   "outputs": [
    {
     "data": {
      "text/html": [
       "<div>\n",
       "<style scoped>\n",
       "    .dataframe tbody tr th:only-of-type {\n",
       "        vertical-align: middle;\n",
       "    }\n",
       "\n",
       "    .dataframe tbody tr th {\n",
       "        vertical-align: top;\n",
       "    }\n",
       "\n",
       "    .dataframe thead th {\n",
       "        text-align: right;\n",
       "    }\n",
       "</style>\n",
       "<table border=\"1\" class=\"dataframe\">\n",
       "  <thead>\n",
       "    <tr style=\"text-align: right;\">\n",
       "      <th></th>\n",
       "      <th>initialAA</th>\n",
       "      <th>finalAA</th>\n",
       "    </tr>\n",
       "  </thead>\n",
       "  <tbody>\n",
       "    <tr>\n",
       "      <th>0</th>\n",
       "      <td>His</td>\n",
       "      <td>Arg</td>\n",
       "    </tr>\n",
       "    <tr>\n",
       "      <th>1</th>\n",
       "      <td>His</td>\n",
       "      <td>Arg</td>\n",
       "    </tr>\n",
       "    <tr>\n",
       "      <th>2</th>\n",
       "      <td>Val</td>\n",
       "      <td>Met</td>\n",
       "    </tr>\n",
       "    <tr>\n",
       "      <th>3</th>\n",
       "      <td>Ala</td>\n",
       "      <td>Ser</td>\n",
       "    </tr>\n",
       "    <tr>\n",
       "      <th>4</th>\n",
       "      <td>Gly</td>\n",
       "      <td>Arg</td>\n",
       "    </tr>\n",
       "    <tr>\n",
       "      <th>...</th>\n",
       "      <td>...</td>\n",
       "      <td>...</td>\n",
       "    </tr>\n",
       "    <tr>\n",
       "      <th>78239</th>\n",
       "      <td>Thr</td>\n",
       "      <td>Pro</td>\n",
       "    </tr>\n",
       "    <tr>\n",
       "      <th>78240</th>\n",
       "      <td>Arg</td>\n",
       "      <td>His</td>\n",
       "    </tr>\n",
       "    <tr>\n",
       "      <th>78241</th>\n",
       "      <td>Arg</td>\n",
       "      <td>Ser</td>\n",
       "    </tr>\n",
       "    <tr>\n",
       "      <th>78242</th>\n",
       "      <td>Val</td>\n",
       "      <td>Leu</td>\n",
       "    </tr>\n",
       "    <tr>\n",
       "      <th>78243</th>\n",
       "      <td>Phe</td>\n",
       "      <td>Leu</td>\n",
       "    </tr>\n",
       "  </tbody>\n",
       "</table>\n",
       "<p>78244 rows × 2 columns</p>\n",
       "</div>"
      ],
      "text/plain": [
       "      initialAA finalAA\n",
       "0           His     Arg\n",
       "1           His     Arg\n",
       "2           Val     Met\n",
       "3           Ala     Ser\n",
       "4           Gly     Arg\n",
       "...         ...     ...\n",
       "78239       Thr     Pro\n",
       "78240       Arg     His\n",
       "78241       Arg     Ser\n",
       "78242       Val     Leu\n",
       "78243       Phe     Leu\n",
       "\n",
       "[78244 rows x 2 columns]"
      ]
     },
     "execution_count": 185,
     "metadata": {},
     "output_type": "execute_result"
    }
   ],
   "source": [
    "snp"
   ]
  },
  {
   "cell_type": "code",
   "execution_count": 186,
   "metadata": {},
   "outputs": [],
   "source": [
    "snps = []\n",
    "for row in range(0,len(snp)):\n",
    "    snps.append([str(snp.values[row,j]) for j in range(0,2)])"
   ]
  },
  {
   "cell_type": "code",
   "execution_count": 209,
   "metadata": {},
   "outputs": [
    {
     "data": {
      "text/html": [
       "<div>\n",
       "<style scoped>\n",
       "    .dataframe tbody tr th:only-of-type {\n",
       "        vertical-align: middle;\n",
       "    }\n",
       "\n",
       "    .dataframe tbody tr th {\n",
       "        vertical-align: top;\n",
       "    }\n",
       "\n",
       "    .dataframe thead th {\n",
       "        text-align: right;\n",
       "    }\n",
       "</style>\n",
       "<table border=\"1\" class=\"dataframe\">\n",
       "  <thead>\n",
       "    <tr style=\"text-align: right;\">\n",
       "      <th></th>\n",
       "      <th>items</th>\n",
       "      <th>support</th>\n",
       "      <th>ordered_statistics</th>\n",
       "    </tr>\n",
       "  </thead>\n",
       "  <tbody>\n",
       "    <tr>\n",
       "      <th>0</th>\n",
       "      <td>(Asp, Asn)</td>\n",
       "      <td>0.020756</td>\n",
       "      <td>[((Asn), (Asp), 0.28361858190709044, 3.3978643...</td>\n",
       "    </tr>\n",
       "    <tr>\n",
       "      <th>1</th>\n",
       "      <td>(Tyr, Cys)</td>\n",
       "      <td>0.021931</td>\n",
       "      <td>[((Cys), (Tyr), 0.25475059382422804, 4.9436273...</td>\n",
       "    </tr>\n",
       "    <tr>\n",
       "      <th>2</th>\n",
       "      <td>(Glu, Lys)</td>\n",
       "      <td>0.031555</td>\n",
       "      <td>[((Glu), (Lys), 0.36944486009277266, 5.0633812...</td>\n",
       "    </tr>\n",
       "  </tbody>\n",
       "</table>\n",
       "</div>"
      ],
      "text/plain": [
       "        items   support                                 ordered_statistics\n",
       "0  (Asp, Asn)  0.020756  [((Asn), (Asp), 0.28361858190709044, 3.3978643...\n",
       "1  (Tyr, Cys)  0.021931  [((Cys), (Tyr), 0.25475059382422804, 4.9436273...\n",
       "2  (Glu, Lys)  0.031555  [((Glu), (Lys), 0.36944486009277266, 5.0633812..."
      ]
     },
     "execution_count": 209,
     "metadata": {},
     "output_type": "execute_result"
    }
   ],
   "source": [
    "association_rules = apriori(snps,min_support=0.0093,min_confidence=0.250,min_lift =3,min_length=2)\n",
    "association_results =list(association_rules)\n",
    "pd.DataFrame(association_results)"
   ]
  },
  {
   "cell_type": "code",
   "execution_count": 210,
   "metadata": {},
   "outputs": [
    {
     "data": {
      "text/plain": [
       "[RelationRecord(items=frozenset({'Asp', 'Asn'}), support=0.020755585092786667, ordered_statistics=[OrderedStatistic(items_base=frozenset({'Asn'}), items_add=frozenset({'Asp'}), confidence=0.28361858190709044, lift=3.3978643887212345)]),\n",
       " RelationRecord(items=frozenset({'Tyr', 'Cys'}), support=0.02193139410050611, ordered_statistics=[OrderedStatistic(items_base=frozenset({'Cys'}), items_add=frozenset({'Tyr'}), confidence=0.25475059382422804, lift=4.943627347019568), OrderedStatistic(items_base=frozenset({'Tyr'}), items_add=frozenset({'Cys'}), confidence=0.42559523809523814, lift=4.943627347019569)]),\n",
       " RelationRecord(items=frozenset({'Glu', 'Lys'}), support=0.031555135218035886, ordered_statistics=[OrderedStatistic(items_base=frozenset({'Glu'}), items_add=frozenset({'Lys'}), confidence=0.36944486009277266, lift=5.06338126346101), OrderedStatistic(items_base=frozenset({'Lys'}), items_add=frozenset({'Glu'}), confidence=0.4324750394114556, lift=5.06338126346101)])]"
      ]
     },
     "execution_count": 210,
     "metadata": {},
     "output_type": "execute_result"
    }
   ],
   "source": [
    "association_results"
   ]
  },
  {
   "cell_type": "code",
   "execution_count": 221,
   "metadata": {},
   "outputs": [
    {
     "name": "stdout",
     "output_type": "stream",
     "text": [
      "Rule: Asp -> Asn\n",
      "Support: 0.020755585092786667\n",
      "Confidence: 0.28361858190709044\n",
      "Lift: 3.3978643887212345\n",
      "=====================================\n",
      "Rule: Tyr -> Cys\n",
      "Support: 0.02193139410050611\n",
      "Confidence: 0.25475059382422804\n",
      "Lift: 4.943627347019568\n",
      "=====================================\n",
      "Rule: Glu -> Lys\n",
      "Support: 0.031555135218035886\n",
      "Confidence: 0.36944486009277266\n",
      "Lift: 5.06338126346101\n",
      "=====================================\n"
     ]
    }
   ],
   "source": [
    "finals = []\n",
    "for item in association_results:                                          \n",
    "#     to display the rule, the support, the confidence, and lift for each rule in a more clear way:\n",
    "\n",
    "    # first index of the inner list\n",
    "    # Contains base item and add item\n",
    "    pair = item[0] \n",
    "    items = [x for x in pair]\n",
    "    print(\"Rule: \" + items[0] + \" -> \" + items[1])\n",
    "    finals.append((items[0],items[1]))\n",
    "\n",
    "    #second index of the inner list\n",
    "    print(\"Support: \" + str(item[1]))\n",
    "\n",
    "    #third index of the list located at 0th\n",
    "    #of the third index of the inner list\n",
    "\n",
    "    print(\"Confidence: \" + str(item[2][0][2]))\n",
    "    print(\"Lift: \" + str(item[2][0][3]))\n",
    "    print(\"=====================================\")"
   ]
  },
  {
   "cell_type": "markdown",
   "metadata": {},
   "source": [
    "# Let's try to display the \"Type_of_Variant\"\n"
   ]
  },
  {
   "cell_type": "code",
   "execution_count": 223,
   "metadata": {},
   "outputs": [
    {
     "data": {
      "text/plain": [
       "[('Asp', 'Asn'), ('Tyr', 'Cys'), ('Glu', 'Lys')]"
      ]
     },
     "execution_count": 223,
     "metadata": {},
     "output_type": "execute_result"
    }
   ],
   "source": [
    "finals #this is the association rules that we obtained from the database"
   ]
  },
  {
   "cell_type": "markdown",
   "metadata": {},
   "source": [
    "### Here we will try to display the database given initial and final amino acids are as obtained"
   ]
  },
  {
   "cell_type": "code",
   "execution_count": 265,
   "metadata": {},
   "outputs": [],
   "source": [
    "final_Queries = [\"select type_of_variant, count(main_gene_name) from snp_db where initialaa='Asp' and finalaa = 'Asn' group by type_of_variant;\",\n",
    "                \"select type_of_variant, count(main_gene_name) from snp_db where initialaa='Tyr' and finalaa = 'Cys' group by type_of_variant; \",\n",
    "                 \"select type_of_variant, count(main_gene_name) from snp_db where initialaa='Glu' and finalaa = 'Lys' group by type_of_variant;\"]\n",
    "def select(q):\n",
    "    c = connection(user,pwd,host,port,db)\n",
    "    c.execute(q)\n",
    "    df = pd.DataFrame(c.fetchall())\n",
    "    return df"
   ]
  },
  {
   "cell_type": "code",
   "execution_count": 270,
   "metadata": {},
   "outputs": [],
   "source": [
    "df1 = pd.DataFrame(select(final_Queries[0]))\n",
    "df1.columns =['Type_of_Variant', 'Counts']\n",
    "df2 = pd.DataFrame(select(final_Queries[1]))\n",
    "df2.columns =['Type_of_Variant', 'Counts']\n",
    "df3 = pd.DataFrame(select(final_Queries[2]))\n",
    "df3.columns =['Type_of_Variant', 'Counts']"
   ]
  },
  {
   "cell_type": "code",
   "execution_count": 271,
   "metadata": {},
   "outputs": [
    {
     "data": {
      "text/html": [
       "<div>\n",
       "<style scoped>\n",
       "    .dataframe tbody tr th:only-of-type {\n",
       "        vertical-align: middle;\n",
       "    }\n",
       "\n",
       "    .dataframe tbody tr th {\n",
       "        vertical-align: top;\n",
       "    }\n",
       "\n",
       "    .dataframe thead th {\n",
       "        text-align: right;\n",
       "    }\n",
       "</style>\n",
       "<table border=\"1\" class=\"dataframe\">\n",
       "  <thead>\n",
       "    <tr style=\"text-align: right;\">\n",
       "      <th></th>\n",
       "      <th>Type_of_Variant</th>\n",
       "      <th>Counts</th>\n",
       "    </tr>\n",
       "  </thead>\n",
       "  <tbody>\n",
       "    <tr>\n",
       "      <th>0</th>\n",
       "      <td>Disease</td>\n",
       "      <td>457</td>\n",
       "    </tr>\n",
       "    <tr>\n",
       "      <th>1</th>\n",
       "      <td>Polymorphism</td>\n",
       "      <td>592</td>\n",
       "    </tr>\n",
       "    <tr>\n",
       "      <th>2</th>\n",
       "      <td>Unclassified</td>\n",
       "      <td>147</td>\n",
       "    </tr>\n",
       "  </tbody>\n",
       "</table>\n",
       "</div>"
      ],
      "text/plain": [
       "  Type_of_Variant  Counts\n",
       "0         Disease     457\n",
       "1    Polymorphism     592\n",
       "2    Unclassified     147"
      ]
     },
     "execution_count": 271,
     "metadata": {},
     "output_type": "execute_result"
    }
   ],
   "source": [
    "df1\n",
    "#When  AA changes from Asp to Asn"
   ]
  },
  {
   "cell_type": "code",
   "execution_count": 272,
   "metadata": {},
   "outputs": [
    {
     "data": {
      "text/html": [
       "<div>\n",
       "<style scoped>\n",
       "    .dataframe tbody tr th:only-of-type {\n",
       "        vertical-align: middle;\n",
       "    }\n",
       "\n",
       "    .dataframe tbody tr th {\n",
       "        vertical-align: top;\n",
       "    }\n",
       "\n",
       "    .dataframe thead th {\n",
       "        text-align: right;\n",
       "    }\n",
       "</style>\n",
       "<table border=\"1\" class=\"dataframe\">\n",
       "  <thead>\n",
       "    <tr style=\"text-align: right;\">\n",
       "      <th></th>\n",
       "      <th>Type_of_Variant</th>\n",
       "      <th>Counts</th>\n",
       "    </tr>\n",
       "  </thead>\n",
       "  <tbody>\n",
       "    <tr>\n",
       "      <th>0</th>\n",
       "      <td>Disease</td>\n",
       "      <td>574</td>\n",
       "    </tr>\n",
       "    <tr>\n",
       "      <th>1</th>\n",
       "      <td>Polymorphism</td>\n",
       "      <td>285</td>\n",
       "    </tr>\n",
       "    <tr>\n",
       "      <th>2</th>\n",
       "      <td>Unclassified</td>\n",
       "      <td>80</td>\n",
       "    </tr>\n",
       "  </tbody>\n",
       "</table>\n",
       "</div>"
      ],
      "text/plain": [
       "  Type_of_Variant  Counts\n",
       "0         Disease     574\n",
       "1    Polymorphism     285\n",
       "2    Unclassified      80"
      ]
     },
     "execution_count": 272,
     "metadata": {},
     "output_type": "execute_result"
    }
   ],
   "source": [
    "df2\n",
    "#When  AA changes from Tyr to Lys"
   ]
  },
  {
   "cell_type": "code",
   "execution_count": 273,
   "metadata": {},
   "outputs": [
    {
     "data": {
      "text/html": [
       "<div>\n",
       "<style scoped>\n",
       "    .dataframe tbody tr th:only-of-type {\n",
       "        vertical-align: middle;\n",
       "    }\n",
       "\n",
       "    .dataframe tbody tr th {\n",
       "        vertical-align: top;\n",
       "    }\n",
       "\n",
       "    .dataframe thead th {\n",
       "        text-align: right;\n",
       "    }\n",
       "</style>\n",
       "<table border=\"1\" class=\"dataframe\">\n",
       "  <thead>\n",
       "    <tr style=\"text-align: right;\">\n",
       "      <th></th>\n",
       "      <th>Type_of_Variant</th>\n",
       "      <th>Counts</th>\n",
       "    </tr>\n",
       "  </thead>\n",
       "  <tbody>\n",
       "    <tr>\n",
       "      <th>0</th>\n",
       "      <td>Disease</td>\n",
       "      <td>785</td>\n",
       "    </tr>\n",
       "    <tr>\n",
       "      <th>1</th>\n",
       "      <td>Polymorphism</td>\n",
       "      <td>813</td>\n",
       "    </tr>\n",
       "    <tr>\n",
       "      <th>2</th>\n",
       "      <td>Unclassified</td>\n",
       "      <td>214</td>\n",
       "    </tr>\n",
       "  </tbody>\n",
       "</table>\n",
       "</div>"
      ],
      "text/plain": [
       "  Type_of_Variant  Counts\n",
       "0         Disease     785\n",
       "1    Polymorphism     813\n",
       "2    Unclassified     214"
      ]
     },
     "execution_count": 273,
     "metadata": {},
     "output_type": "execute_result"
    }
   ],
   "source": [
    "df3\n",
    "#When  AA changes from Glu to Asn"
   ]
  },
  {
   "cell_type": "code",
   "execution_count": null,
   "metadata": {},
   "outputs": [],
   "source": []
  }
 ],
 "metadata": {
  "kernelspec": {
   "display_name": "Python 3",
   "language": "python",
   "name": "python3"
  },
  "language_info": {
   "codemirror_mode": {
    "name": "ipython",
    "version": 3
   },
   "file_extension": ".py",
   "mimetype": "text/x-python",
   "name": "python",
   "nbconvert_exporter": "python",
   "pygments_lexer": "ipython3",
   "version": "3.7.4"
  }
 },
 "nbformat": 4,
 "nbformat_minor": 4
}
